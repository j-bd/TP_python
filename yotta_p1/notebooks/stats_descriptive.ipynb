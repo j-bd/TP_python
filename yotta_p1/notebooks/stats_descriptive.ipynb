{
 "cells": [
  {
   "cell_type": "code",
   "execution_count": 27,
   "metadata": {},
   "outputs": [],
   "source": [
    "import pandas as pd\n",
    "import numpy as np\n",
    "from pandas_profiling import ProfileReport\n",
    "import matplotlib.pyplot as plt\n",
    "import pylab"
   ]
  },
  {
   "cell_type": "markdown",
   "metadata": {},
   "source": [
    "### df_data analyse"
   ]
  },
  {
   "cell_type": "code",
   "execution_count": 52,
   "metadata": {},
   "outputs": [
    {
     "name": "stdout",
     "output_type": "stream",
     "text": [
      "(45136, 16)\n"
     ]
    },
    {
     "data": {
      "text/html": [
       "<div>\n",
       "<style scoped>\n",
       "    .dataframe tbody tr th:only-of-type {\n",
       "        vertical-align: middle;\n",
       "    }\n",
       "\n",
       "    .dataframe tbody tr th {\n",
       "        vertical-align: top;\n",
       "    }\n",
       "\n",
       "    .dataframe thead th {\n",
       "        text-align: right;\n",
       "    }\n",
       "</style>\n",
       "<table border=\"1\" class=\"dataframe\">\n",
       "  <thead>\n",
       "    <tr style=\"text-align: right;\">\n",
       "      <th></th>\n",
       "      <th>DATE</th>\n",
       "      <th>AGE</th>\n",
       "      <th>JOB_TYPE</th>\n",
       "      <th>STATUS</th>\n",
       "      <th>EDUCATION</th>\n",
       "      <th>HAS_DEFAULT</th>\n",
       "      <th>BALANCE</th>\n",
       "      <th>HAS_HOUSING_LOAN</th>\n",
       "      <th>HAS_PERSO_LOAN</th>\n",
       "      <th>CONTACT</th>\n",
       "      <th>DURATION_CONTACT</th>\n",
       "      <th>NB_CONTACT</th>\n",
       "      <th>NB_DAY_LAST_CONTACT</th>\n",
       "      <th>NB_CONTACT_LAST_CAMPAIGN</th>\n",
       "      <th>RESULT_LAST_CAMPAIGN</th>\n",
       "      <th>SUBSCRIPTION</th>\n",
       "    </tr>\n",
       "  </thead>\n",
       "  <tbody>\n",
       "    <tr>\n",
       "      <th>0</th>\n",
       "      <td>2008-05-05</td>\n",
       "      <td>58</td>\n",
       "      <td>Manager</td>\n",
       "      <td>Marié</td>\n",
       "      <td>Tertiaire</td>\n",
       "      <td>No</td>\n",
       "      <td>2143</td>\n",
       "      <td>Yes</td>\n",
       "      <td>No</td>\n",
       "      <td>NaN</td>\n",
       "      <td>261</td>\n",
       "      <td>1</td>\n",
       "      <td>-1</td>\n",
       "      <td>0</td>\n",
       "      <td>NaN</td>\n",
       "      <td>No</td>\n",
       "    </tr>\n",
       "    <tr>\n",
       "      <th>1</th>\n",
       "      <td>2008-05-05</td>\n",
       "      <td>123</td>\n",
       "      <td>Technicien</td>\n",
       "      <td>NaN</td>\n",
       "      <td>Secondaire</td>\n",
       "      <td>No</td>\n",
       "      <td>29</td>\n",
       "      <td>Yes</td>\n",
       "      <td>NaN</td>\n",
       "      <td>NaN</td>\n",
       "      <td>151</td>\n",
       "      <td>1</td>\n",
       "      <td>-1</td>\n",
       "      <td>0</td>\n",
       "      <td>NaN</td>\n",
       "      <td>No</td>\n",
       "    </tr>\n",
       "    <tr>\n",
       "      <th>2</th>\n",
       "      <td>2008-05-05</td>\n",
       "      <td>33</td>\n",
       "      <td>Entrepreuneur</td>\n",
       "      <td>Marié</td>\n",
       "      <td>Secondaire</td>\n",
       "      <td>No</td>\n",
       "      <td>2</td>\n",
       "      <td>Yes</td>\n",
       "      <td>Yes</td>\n",
       "      <td>NaN</td>\n",
       "      <td>76</td>\n",
       "      <td>1</td>\n",
       "      <td>-1</td>\n",
       "      <td>0</td>\n",
       "      <td>NaN</td>\n",
       "      <td>No</td>\n",
       "    </tr>\n",
       "    <tr>\n",
       "      <th>3</th>\n",
       "      <td>2008-05-05</td>\n",
       "      <td>47</td>\n",
       "      <td>Col bleu</td>\n",
       "      <td>Marié</td>\n",
       "      <td>NaN</td>\n",
       "      <td>No</td>\n",
       "      <td>1506</td>\n",
       "      <td>Yes</td>\n",
       "      <td>No</td>\n",
       "      <td>NaN</td>\n",
       "      <td>92</td>\n",
       "      <td>1</td>\n",
       "      <td>-1</td>\n",
       "      <td>0</td>\n",
       "      <td>NaN</td>\n",
       "      <td>No</td>\n",
       "    </tr>\n",
       "    <tr>\n",
       "      <th>4</th>\n",
       "      <td>2008-05-05</td>\n",
       "      <td>33</td>\n",
       "      <td>NaN</td>\n",
       "      <td>Célibataire</td>\n",
       "      <td>NaN</td>\n",
       "      <td>No</td>\n",
       "      <td>1</td>\n",
       "      <td>No</td>\n",
       "      <td>No</td>\n",
       "      <td>NaN</td>\n",
       "      <td>198</td>\n",
       "      <td>1</td>\n",
       "      <td>-1</td>\n",
       "      <td>0</td>\n",
       "      <td>NaN</td>\n",
       "      <td>No</td>\n",
       "    </tr>\n",
       "  </tbody>\n",
       "</table>\n",
       "</div>"
      ],
      "text/plain": [
       "         DATE  AGE       JOB_TYPE       STATUS   EDUCATION HAS_DEFAULT  \\\n",
       "0  2008-05-05   58        Manager        Marié   Tertiaire          No   \n",
       "1  2008-05-05  123     Technicien          NaN  Secondaire          No   \n",
       "2  2008-05-05   33  Entrepreuneur        Marié  Secondaire          No   \n",
       "3  2008-05-05   47       Col bleu        Marié         NaN          No   \n",
       "4  2008-05-05   33            NaN  Célibataire         NaN          No   \n",
       "\n",
       "   BALANCE HAS_HOUSING_LOAN HAS_PERSO_LOAN CONTACT  DURATION_CONTACT  \\\n",
       "0     2143              Yes             No     NaN               261   \n",
       "1       29              Yes            NaN     NaN               151   \n",
       "2        2              Yes            Yes     NaN                76   \n",
       "3     1506              Yes             No     NaN                92   \n",
       "4        1               No             No     NaN               198   \n",
       "\n",
       "   NB_CONTACT  NB_DAY_LAST_CONTACT  NB_CONTACT_LAST_CAMPAIGN  \\\n",
       "0           1                   -1                         0   \n",
       "1           1                   -1                         0   \n",
       "2           1                   -1                         0   \n",
       "3           1                   -1                         0   \n",
       "4           1                   -1                         0   \n",
       "\n",
       "  RESULT_LAST_CAMPAIGN SUBSCRIPTION  \n",
       "0                  NaN           No  \n",
       "1                  NaN           No  \n",
       "2                  NaN           No  \n",
       "3                  NaN           No  \n",
       "4                  NaN           No  "
      ]
     },
     "execution_count": 52,
     "metadata": {},
     "output_type": "execute_result"
    }
   ],
   "source": [
    "df_data = pd.read_csv(\"data.csv\")\n",
    "print(df_data.shape)\n",
    "df_data.head(5)"
   ]
  },
  {
   "cell_type": "code",
   "execution_count": 79,
   "metadata": {},
   "outputs": [
    {
     "data": {
      "text/html": [
       "<div>\n",
       "<style scoped>\n",
       "    .dataframe tbody tr th:only-of-type {\n",
       "        vertical-align: middle;\n",
       "    }\n",
       "\n",
       "    .dataframe tbody tr th {\n",
       "        vertical-align: top;\n",
       "    }\n",
       "\n",
       "    .dataframe thead th {\n",
       "        text-align: right;\n",
       "    }\n",
       "</style>\n",
       "<table border=\"1\" class=\"dataframe\">\n",
       "  <thead>\n",
       "    <tr style=\"text-align: right;\">\n",
       "      <th></th>\n",
       "      <th>DATE</th>\n",
       "      <th>AGE</th>\n",
       "      <th>JOB_TYPE</th>\n",
       "      <th>STATUS</th>\n",
       "      <th>EDUCATION</th>\n",
       "      <th>HAS_DEFAULT</th>\n",
       "      <th>BALANCE</th>\n",
       "      <th>HAS_HOUSING_LOAN</th>\n",
       "      <th>HAS_PERSO_LOAN</th>\n",
       "      <th>CONTACT</th>\n",
       "      <th>DURATION_CONTACT</th>\n",
       "      <th>NB_CONTACT</th>\n",
       "      <th>NB_DAY_LAST_CONTACT</th>\n",
       "      <th>NB_CONTACT_LAST_CAMPAIGN</th>\n",
       "      <th>RESULT_LAST_CAMPAIGN</th>\n",
       "      <th>SUBSCRIPTION</th>\n",
       "    </tr>\n",
       "  </thead>\n",
       "  <tbody>\n",
       "    <tr>\n",
       "      <th>83</th>\n",
       "      <td>2008-05-05</td>\n",
       "      <td>59</td>\n",
       "      <td>Admin</td>\n",
       "      <td>Marié</td>\n",
       "      <td>Secondaire</td>\n",
       "      <td>No</td>\n",
       "      <td>2343</td>\n",
       "      <td>Yes</td>\n",
       "      <td>No</td>\n",
       "      <td>NaN</td>\n",
       "      <td>1042</td>\n",
       "      <td>1</td>\n",
       "      <td>-1</td>\n",
       "      <td>0</td>\n",
       "      <td>NaN</td>\n",
       "      <td>Yes</td>\n",
       "    </tr>\n",
       "    <tr>\n",
       "      <th>86</th>\n",
       "      <td>2008-05-05</td>\n",
       "      <td>56</td>\n",
       "      <td>Admin</td>\n",
       "      <td>Marié</td>\n",
       "      <td>Secondaire</td>\n",
       "      <td>No</td>\n",
       "      <td>45</td>\n",
       "      <td>No</td>\n",
       "      <td>No</td>\n",
       "      <td>NaN</td>\n",
       "      <td>1467</td>\n",
       "      <td>1</td>\n",
       "      <td>-1</td>\n",
       "      <td>0</td>\n",
       "      <td>NaN</td>\n",
       "      <td>Yes</td>\n",
       "    </tr>\n",
       "    <tr>\n",
       "      <th>87</th>\n",
       "      <td>2008-05-05</td>\n",
       "      <td>41</td>\n",
       "      <td>Technicien</td>\n",
       "      <td>Marié</td>\n",
       "      <td>Secondaire</td>\n",
       "      <td>No</td>\n",
       "      <td>1270</td>\n",
       "      <td>Yes</td>\n",
       "      <td>No</td>\n",
       "      <td>NaN</td>\n",
       "      <td>1389</td>\n",
       "      <td>1</td>\n",
       "      <td>-1</td>\n",
       "      <td>0</td>\n",
       "      <td>NaN</td>\n",
       "      <td>Yes</td>\n",
       "    </tr>\n",
       "    <tr>\n",
       "      <th>129</th>\n",
       "      <td>2008-05-05</td>\n",
       "      <td>55</td>\n",
       "      <td>Services</td>\n",
       "      <td>Marié</td>\n",
       "      <td>Secondaire</td>\n",
       "      <td>No</td>\n",
       "      <td>2476</td>\n",
       "      <td>Yes</td>\n",
       "      <td>No</td>\n",
       "      <td>NaN</td>\n",
       "      <td>579</td>\n",
       "      <td>1</td>\n",
       "      <td>-1</td>\n",
       "      <td>0</td>\n",
       "      <td>NaN</td>\n",
       "      <td>Yes</td>\n",
       "    </tr>\n",
       "    <tr>\n",
       "      <th>168</th>\n",
       "      <td>2008-05-05</td>\n",
       "      <td>54</td>\n",
       "      <td>Admin</td>\n",
       "      <td>Marié</td>\n",
       "      <td>Tertiaire</td>\n",
       "      <td>No</td>\n",
       "      <td>184</td>\n",
       "      <td>No</td>\n",
       "      <td>No</td>\n",
       "      <td>NaN</td>\n",
       "      <td>673</td>\n",
       "      <td>2</td>\n",
       "      <td>-1</td>\n",
       "      <td>0</td>\n",
       "      <td>NaN</td>\n",
       "      <td>Yes</td>\n",
       "    </tr>\n",
       "  </tbody>\n",
       "</table>\n",
       "</div>"
      ],
      "text/plain": [
       "           DATE  AGE    JOB_TYPE STATUS   EDUCATION HAS_DEFAULT  BALANCE  \\\n",
       "83   2008-05-05   59       Admin  Marié  Secondaire          No     2343   \n",
       "86   2008-05-05   56       Admin  Marié  Secondaire          No       45   \n",
       "87   2008-05-05   41  Technicien  Marié  Secondaire          No     1270   \n",
       "129  2008-05-05   55    Services  Marié  Secondaire          No     2476   \n",
       "168  2008-05-05   54       Admin  Marié   Tertiaire          No      184   \n",
       "\n",
       "    HAS_HOUSING_LOAN HAS_PERSO_LOAN CONTACT  DURATION_CONTACT  NB_CONTACT  \\\n",
       "83               Yes             No     NaN              1042           1   \n",
       "86                No             No     NaN              1467           1   \n",
       "87               Yes             No     NaN              1389           1   \n",
       "129              Yes             No     NaN               579           1   \n",
       "168               No             No     NaN               673           2   \n",
       "\n",
       "     NB_DAY_LAST_CONTACT  NB_CONTACT_LAST_CAMPAIGN RESULT_LAST_CAMPAIGN  \\\n",
       "83                    -1                         0                  NaN   \n",
       "86                    -1                         0                  NaN   \n",
       "87                    -1                         0                  NaN   \n",
       "129                   -1                         0                  NaN   \n",
       "168                   -1                         0                  NaN   \n",
       "\n",
       "    SUBSCRIPTION  \n",
       "83           Yes  \n",
       "86           Yes  \n",
       "87           Yes  \n",
       "129          Yes  \n",
       "168          Yes  "
      ]
     },
     "execution_count": 79,
     "metadata": {},
     "output_type": "execute_result"
    }
   ],
   "source": [
    "#df = df_data.query('NB_DAY_LAST_CONTACT >= 0')\n",
    "df = df_data\n",
    "no = df[df[\"SUBSCRIPTION\"]==\"No\"]\n",
    "yes = df[df[\"SUBSCRIPTION\"]==\"Yes\"]\n",
    "\n",
    "yes.head()"
   ]
  },
  {
   "cell_type": "code",
   "execution_count": 83,
   "metadata": {},
   "outputs": [],
   "source": [
    "col = \"NB_CONTACT_LAST_CAMPAIGN\"\n",
    "bins = 10"
   ]
  },
  {
   "cell_type": "code",
   "execution_count": 84,
   "metadata": {},
   "outputs": [
    {
     "data": {
      "text/plain": [
       "<matplotlib.axes._subplots.AxesSubplot at 0x23b27423d48>"
      ]
     },
     "execution_count": 84,
     "metadata": {},
     "output_type": "execute_result"
    },
    {
     "data": {
      "image/png": "[encoded data removed]",
      "text/plain": [
       "<Figure size 432x288 with 1 Axes>"
      ]
     },
     "metadata": {
      "needs_background": "light"
     },
     "output_type": "display_data"
    }
   ],
   "source": [
    "no[col].hist(bins=bins)"
   ]
  },
  {
   "cell_type": "code",
   "execution_count": 85,
   "metadata": {},
   "outputs": [
    {
     "data": {
      "text/plain": [
       "<matplotlib.axes._subplots.AxesSubplot at 0x23b2782c588>"
      ]
     },
     "execution_count": 85,
     "metadata": {},
     "output_type": "execute_result"
    },
    {
     "data": {
      "image/png": "[encoded data removed]",
      "text/plain": [
       "<Figure size 432x288 with 1 Axes>"
      ]
     },
     "metadata": {
      "needs_background": "light"
     },
     "output_type": "display_data"
    }
   ],
   "source": [
    "yes[col].hist(bins=bins)"
   ]
  },
  {
   "cell_type": "code",
   "execution_count": 36,
   "metadata": {},
   "outputs": [
    {
     "name": "stdout",
     "output_type": "stream",
     "text": [
      "(36939, 16)\n",
      "NB_DAY_LAST_CONTACT    -1     98    168   188   416   528\n",
      "CONTACT                                                  \n",
      "Fixe                 100.00   0.0   0.0   0.0   0.0   0.0\n",
      "Portable              99.98   0.0   0.0   0.0   0.0   0.0\n"
     ]
    }
   ],
   "source": [
    "df = df_data[df_data[\"RESULT_LAST_CAMPAIGN\"].isnull()]\n",
    "print(df.shape)\n",
    "x = pd.crosstab(df[\"CONTACT\"],df[\"NB_DAY_LAST_CONTACT\"]).apply(lambda r: round(r/r.sum()*100,2), axis=1)\n",
    "print(x)"
   ]
  },
  {
   "cell_type": "code",
   "execution_count": 3,
   "metadata": {
    "scrolled": false
   },
   "outputs": [
    {
     "data": {
      "application/vnd.jupyter.widget-view+json": {
       "model_id": "b017e4110604428098e1d2b9304502c0",
       "version_major": 2,
       "version_minor": 0
      },
      "text/plain": [
       "HBox(children=(FloatProgress(value=0.0, description='variables', max=16.0, style=ProgressStyle(description_wid…"
      ]
     },
     "metadata": {},
     "output_type": "display_data"
    },
    {
     "name": "stdout",
     "output_type": "stream",
     "text": [
      "\n"
     ]
    },
    {
     "data": {
      "application/vnd.jupyter.widget-view+json": {
       "model_id": "e21ce3739956440c82d429c6d2b7cbfb",
       "version_major": 2,
       "version_minor": 0
      },
      "text/plain": [
       "HBox(children=(FloatProgress(value=0.0, description='correlations', max=6.0, style=ProgressStyle(description_w…"
      ]
     },
     "metadata": {},
     "output_type": "display_data"
    },
    {
     "name": "stdout",
     "output_type": "stream",
     "text": [
      "\n"
     ]
    },
    {
     "data": {
      "application/vnd.jupyter.widget-view+json": {
       "model_id": "ce0299878e4d47a0985471759135a898",
       "version_major": 2,
       "version_minor": 0
      },
      "text/plain": [
       "HBox(children=(FloatProgress(value=0.0, description='interactions [continuous]', max=36.0, style=ProgressStyle…"
      ]
     },
     "metadata": {},
     "output_type": "display_data"
    },
    {
     "name": "stdout",
     "output_type": "stream",
     "text": [
      "\n"
     ]
    },
    {
     "data": {
      "application/vnd.jupyter.widget-view+json": {
       "model_id": "bf6a598e65ea4c0ab86a87e6df39c76c",
       "version_major": 2,
       "version_minor": 0
      },
      "text/plain": [
       "HBox(children=(FloatProgress(value=0.0, description='table', max=1.0, style=ProgressStyle(description_width='i…"
      ]
     },
     "metadata": {},
     "output_type": "display_data"
    },
    {
     "name": "stdout",
     "output_type": "stream",
     "text": [
      "\n"
     ]
    },
    {
     "data": {
      "application/vnd.jupyter.widget-view+json": {
       "model_id": "4db8c5afc31e4a2ba91e48e8bc101648",
       "version_major": 2,
       "version_minor": 0
      },
      "text/plain": [
       "HBox(children=(FloatProgress(value=0.0, description='missing', max=4.0, style=ProgressStyle(description_width=…"
      ]
     },
     "metadata": {},
     "output_type": "display_data"
    },
    {
     "name": "stdout",
     "output_type": "stream",
     "text": [
      "\n"
     ]
    },
    {
     "data": {
      "application/vnd.jupyter.widget-view+json": {
       "model_id": "a911117d427f442095bca8d6fb83e2aa",
       "version_major": 2,
       "version_minor": 0
      },
      "text/plain": [
       "HBox(children=(FloatProgress(value=0.0, description='warnings', max=3.0, style=ProgressStyle(description_width…"
      ]
     },
     "metadata": {},
     "output_type": "display_data"
    },
    {
     "name": "stdout",
     "output_type": "stream",
     "text": [
      "\n"
     ]
    },
    {
     "data": {
      "application/vnd.jupyter.widget-view+json": {
       "model_id": "4bce9155958e44b9921375bcab083f1f",
       "version_major": 2,
       "version_minor": 0
      },
      "text/plain": [
       "HBox(children=(FloatProgress(value=0.0, description='package', max=1.0, style=ProgressStyle(description_width=…"
      ]
     },
     "metadata": {},
     "output_type": "display_data"
    },
    {
     "name": "stdout",
     "output_type": "stream",
     "text": [
      "\n"
     ]
    },
    {
     "data": {
      "application/vnd.jupyter.widget-view+json": {
       "model_id": "02478f1567834dabb33bf0950d0d9080",
       "version_major": 2,
       "version_minor": 0
      },
      "text/plain": [
       "HBox(children=(FloatProgress(value=0.0, description='build report structure', max=1.0, style=ProgressStyle(des…"
      ]
     },
     "metadata": {},
     "output_type": "display_data"
    },
    {
     "name": "stdout",
     "output_type": "stream",
     "text": [
      "\n"
     ]
    },
    {
     "data": {
      "application/vnd.jupyter.widget-view+json": {
       "model_id": "ca17b60ab3144f8483cba5ab4a101fd3",
       "version_major": 2,
       "version_minor": 0
      },
      "text/plain": [
       "Tab(children=(Tab(children=(GridBox(children=(VBox(children=(GridspecLayout(children=(HTML(value='Number of va…"
      ]
     },
     "metadata": {},
     "output_type": "display_data"
    },
    {
     "data": {
      "text/html": [
       "Report generated with <a href=\"https://github.com/pandas-profiling/pandas-profiling\">pandas-profiling</a>."
      ],
      "text/plain": [
       "<IPython.core.display.HTML object>"
      ]
     },
     "metadata": {},
     "output_type": "display_data"
    }
   ],
   "source": [
    "profile = ProfileReport(df_data, title='Pandas Profiling Report', html={'style':{'full_width':True}})\n",
    "profile.to_widgets()"
   ]
  },
  {
   "cell_type": "code",
   "execution_count": 4,
   "metadata": {},
   "outputs": [],
   "source": [
    "quanti = df_data.dtypes.index[df_data.dtypes == 'int64']\n",
    "quali = df_data.dtypes.index[df_data.dtypes == 'object']"
   ]
  },
  {
   "cell_type": "code",
   "execution_count": 5,
   "metadata": {},
   "outputs": [],
   "source": [
    "def stats_subscription(target_categorie, nom_data, arrondi):\n",
    "    x = pd.crosstab(nom_data[target_categorie],nom_data[\"SUBSCRIPTION\"])\n",
    "    print(x)\n",
    "    \n",
    "    print(\"Pour la variable: {}\".format(target_categorie))\n",
    "    print(\"\\n\")\n",
    "    print('Part de YES total: {}'.format(round(x[\"No\"].sum() / (x[\"Yes\"].sum() + x[\"No\"].sum())*100,arrondi)))\n",
    "    print('Part de NO total: {}'.format(round(x[\"Yes\"].sum() / (x[\"Yes\"].sum() + x[\"No\"].sum())*100,arrondi)))\n",
    "    print(\"\\n\")\n",
    "    \n",
    "    i = 0\n",
    "    for j in x.index: \n",
    "        print('Pour la catégorie: {}'.format(j))\n",
    "        print('Part de NO: {}'.format(round(x[\"No\"][i] / (x[\"No\"][i] + x[\"Yes\"][i])*100,arrondi)))\n",
    "        print('Part de YES: {}'.format(round(x[\"Yes\"][i] / (x[\"No\"][i] + x[\"Yes\"][i])*100,arrondi)))\n",
    "        print('\\n')\n",
    "        i = i + 1"
   ]
  },
  {
   "cell_type": "code",
   "execution_count": 6,
   "metadata": {},
   "outputs": [
    {
     "data": {
      "text/plain": [
       "Index(['AGE', 'BALANCE', 'DURATION_CONTACT', 'NB_CONTACT',\n",
       "       'NB_DAY_LAST_CONTACT', 'NB_CONTACT_LAST_CAMPAIGN'],\n",
       "      dtype='object')"
      ]
     },
     "execution_count": 6,
     "metadata": {},
     "output_type": "execute_result"
    }
   ],
   "source": [
    "quanti"
   ]
  },
  {
   "cell_type": "code",
   "execution_count": 8,
   "metadata": {},
   "outputs": [
    {
     "name": "stdout",
     "output_type": "stream",
     "text": [
      "SUBSCRIPTION         No   Yes\n",
      "JOB_TYPE                     \n",
      "Admin              4534   627\n",
      "Chomeur            1100   201\n",
      "Col bleu           9021   705\n",
      "Employé de ménage  1130   109\n",
      "Entrepreuneur      1363   120\n",
      "Etudiant            666   266\n",
      "Indépendant        1391   186\n",
      "Manager            8150  1295\n",
      "Retraité           1742   510\n",
      "Services           3781   367\n",
      "Technicien         6753   833\n",
      "Pour la variable: JOB_TYPE\n",
      "\n",
      "\n",
      "Part de YES total: 88.363\n",
      "Part de NO total: 11.637\n",
      "\n",
      "\n",
      "Pour la catégorie: Admin\n",
      "Part de NO: 87.851\n",
      "Part de YES: 12.149\n",
      "\n",
      "\n",
      "Pour la catégorie: Chomeur\n",
      "Part de NO: 84.55\n",
      "Part de YES: 15.45\n",
      "\n",
      "\n",
      "Pour la catégorie: Col bleu\n",
      "Part de NO: 92.751\n",
      "Part de YES: 7.249\n",
      "\n",
      "\n",
      "Pour la catégorie: Employé de ménage\n",
      "Part de NO: 91.203\n",
      "Part de YES: 8.797\n",
      "\n",
      "\n",
      "Pour la catégorie: Entrepreuneur\n",
      "Part de NO: 91.908\n",
      "Part de YES: 8.092\n",
      "\n",
      "\n",
      "Pour la catégorie: Etudiant\n",
      "Part de NO: 71.459\n",
      "Part de YES: 28.541\n",
      "\n",
      "\n",
      "Pour la catégorie: Indépendant\n",
      "Part de NO: 88.205\n",
      "Part de YES: 11.795\n",
      "\n",
      "\n",
      "Pour la catégorie: Manager\n",
      "Part de NO: 86.289\n",
      "Part de YES: 13.711\n",
      "\n",
      "\n",
      "Pour la catégorie: Retraité\n",
      "Part de NO: 77.353\n",
      "Part de YES: 22.647\n",
      "\n",
      "\n",
      "Pour la catégorie: Services\n",
      "Part de NO: 91.152\n",
      "Part de YES: 8.848\n",
      "\n",
      "\n",
      "Pour la catégorie: Technicien\n",
      "Part de NO: 89.019\n",
      "Part de YES: 10.981\n",
      "\n",
      "\n"
     ]
    }
   ],
   "source": [
    "stats_subscription('JOB_TYPE',df_data,3)"
   ]
  },
  {
   "cell_type": "code",
   "execution_count": null,
   "metadata": {},
   "outputs": [],
   "source": [
    "def stats_subscription(categorie1, categorie2, nom_data, arrondi):\n",
    "    x = pd.crosstab(nom_data[categorie1],nom_data[categorie2])\n",
    "    print(x)\n",
    "    \n",
    "    print(\"Pour la variable: {}\".format(target_categorie))\n",
    "    print(\"\\n\")\n",
    "    print('Part de YES total: {}'.format(round(x[\"No\"].sum() / (x[\"Yes\"].sum() + x[\"No\"].sum())*100,arrondi)))\n",
    "    print('Part de NO total: {}'.format(round(x[\"Yes\"].sum() / (x[\"Yes\"].sum() + x[\"No\"].sum())*100,arrondi)))\n",
    "    print(\"\\n\")\n",
    "    \n",
    "    i = 0\n",
    "    for j in x.index: \n",
    "        print('Pour la catégorie: {}'.format(j))\n",
    "        print('Part de NO: {}'.format(round(x[\"No\"][i] / (x[\"No\"][i] + x[\"Yes\"][i])*100,arrondi)))\n",
    "        print('Part de YES: {}'.format(round(x[\"Yes\"][i] / (x[\"No\"][i] + x[\"Yes\"][i])*100,arrondi)))\n",
    "        print('\\n')\n",
    "        i = i + 1"
   ]
  },
  {
   "cell_type": "code",
   "execution_count": 168,
   "metadata": {},
   "outputs": [
    {
     "data": {
      "text/plain": [
       "Index(['DATE', 'JOB_TYPE', 'STATUS', 'EDUCATION', 'HAS_DEFAULT',\n",
       "       'HAS_HOUSING_LOAN', 'HAS_PERSO_LOAN', 'CONTACT', 'RESULT_LAST_CAMPAIGN',\n",
       "       'SUBSCRIPTION'],\n",
       "      dtype='object')"
      ]
     },
     "execution_count": 168,
     "metadata": {},
     "output_type": "execute_result"
    }
   ],
   "source": [
    "quali"
   ]
  },
  {
   "cell_type": "code",
   "execution_count": 172,
   "metadata": {},
   "outputs": [
    {
     "data": {
      "text/html": [
       "<div>\n",
       "<style scoped>\n",
       "    .dataframe tbody tr th:only-of-type {\n",
       "        vertical-align: middle;\n",
       "    }\n",
       "\n",
       "    .dataframe tbody tr th {\n",
       "        vertical-align: top;\n",
       "    }\n",
       "\n",
       "    .dataframe thead th {\n",
       "        text-align: right;\n",
       "    }\n",
       "</style>\n",
       "<table border=\"1\" class=\"dataframe\">\n",
       "  <thead>\n",
       "    <tr style=\"text-align: right;\">\n",
       "      <th>JOB_TYPE</th>\n",
       "      <th>Admin</th>\n",
       "      <th>Chomeur</th>\n",
       "      <th>Col bleu</th>\n",
       "      <th>Employé de ménage</th>\n",
       "      <th>Entrepreuneur</th>\n",
       "      <th>Etudiant</th>\n",
       "      <th>Indépendant</th>\n",
       "      <th>Manager</th>\n",
       "      <th>Retraité</th>\n",
       "      <th>Services</th>\n",
       "      <th>Technicien</th>\n",
       "    </tr>\n",
       "    <tr>\n",
       "      <th>STATUS</th>\n",
       "      <th></th>\n",
       "      <th></th>\n",
       "      <th></th>\n",
       "      <th></th>\n",
       "      <th></th>\n",
       "      <th></th>\n",
       "      <th></th>\n",
       "      <th></th>\n",
       "      <th></th>\n",
       "      <th></th>\n",
       "      <th></th>\n",
       "    </tr>\n",
       "  </thead>\n",
       "  <tbody>\n",
       "    <tr>\n",
       "      <th>Célibataire</th>\n",
       "      <td>1686</td>\n",
       "      <td>390</td>\n",
       "      <td>1973</td>\n",
       "      <td>141</td>\n",
       "      <td>234</td>\n",
       "      <td>846</td>\n",
       "      <td>436</td>\n",
       "      <td>2869</td>\n",
       "      <td>106</td>\n",
       "      <td>1172</td>\n",
       "      <td>2543</td>\n",
       "    </tr>\n",
       "    <tr>\n",
       "      <th>Divorcé</th>\n",
       "      <td>727</td>\n",
       "      <td>166</td>\n",
       "      <td>728</td>\n",
       "      <td>177</td>\n",
       "      <td>177</td>\n",
       "      <td>6</td>\n",
       "      <td>138</td>\n",
       "      <td>1079</td>\n",
       "      <td>408</td>\n",
       "      <td>530</td>\n",
       "      <td>894</td>\n",
       "    </tr>\n",
       "    <tr>\n",
       "      <th>Marié</th>\n",
       "      <td>2623</td>\n",
       "      <td>716</td>\n",
       "      <td>6819</td>\n",
       "      <td>890</td>\n",
       "      <td>1045</td>\n",
       "      <td>53</td>\n",
       "      <td>970</td>\n",
       "      <td>5233</td>\n",
       "      <td>1678</td>\n",
       "      <td>2340</td>\n",
       "      <td>3938</td>\n",
       "    </tr>\n",
       "  </tbody>\n",
       "</table>\n",
       "</div>"
      ],
      "text/plain": [
       "JOB_TYPE     Admin  Chomeur  Col bleu  Employé de ménage  Entrepreuneur  \\\n",
       "STATUS                                                                    \n",
       "Célibataire   1686      390      1973                141            234   \n",
       "Divorcé        727      166       728                177            177   \n",
       "Marié         2623      716      6819                890           1045   \n",
       "\n",
       "JOB_TYPE     Etudiant  Indépendant  Manager  Retraité  Services  Technicien  \n",
       "STATUS                                                                       \n",
       "Célibataire       846          436     2869       106      1172        2543  \n",
       "Divorcé             6          138     1079       408       530         894  \n",
       "Marié              53          970     5233      1678      2340        3938  "
      ]
     },
     "execution_count": 172,
     "metadata": {},
     "output_type": "execute_result"
    }
   ],
   "source": [
    "categorie1 = 'STATUS'\n",
    "categorie2 = 'JOB_TYPE'\n",
    "nom_data = df_data\n",
    "x = pd.crosstab(nom_data[categorie1],nom_data[categorie2])\n",
    "x\n",
    "for i in nom_data[categorie2]:"
   ]
  },
  {
   "cell_type": "code",
   "execution_count": 177,
   "metadata": {},
   "outputs": [
    {
     "data": {
      "text/plain": [
       "[]"
      ]
     },
     "execution_count": 177,
     "metadata": {},
     "output_type": "execute_result"
    },
    {
     "data": {
      "image/png": "[encoded data removed]",
      "text/plain": [
       "<Figure size 432x288 with 1 Axes>"
      ]
     },
     "metadata": {
      "needs_background": "light"
     },
     "output_type": "display_data"
    }
   ],
   "source": [
    "df_data.boxplot(column='BALANCE', by='JOB_TYPE').plot()"
   ]
  },
  {
   "cell_type": "code",
   "execution_count": 166,
   "metadata": {},
   "outputs": [],
   "source": [
    "def stats_quali_quanti(nom_variable_quali,nom_variable_quanti, nom_data):\n",
    "\n",
    "    %matplotlib inline\n",
    "    boxlist = []\n",
    "    for i in list(nom_data[nom_variable_quanti].unique()):\n",
    "        boxlist.append(nom_data[nom_data[nom_variable_quanti] == i][nom_variable_quali])\n",
    "    BoxName = list(nom_data[nom_variable_quanti].unique())\n",
    "    idx = range(len(BoxName))\n",
    "    data = boxlist\n",
    "    plt.figure(figsize=(10,10), dpi=80)\n",
    "\n",
    "    plt.boxplot(data)\n",
    "    plt.xticks(idx, BoxName, rotation='vertical')\n",
    "\n",
    "    plt.title('Différence entre les modalités de la variable {} par rapport à la distribution de {}'.format(nom_variable_quanti,nom_variable_quali))"
   ]
  },
  {
   "cell_type": "code",
   "execution_count": 167,
   "metadata": {},
   "outputs": [
    {
     "data": {
      "image/png": "[encoded data removed]",
      "text/plain": [
       "<Figure size 800x800 with 1 Axes>"
      ]
     },
     "metadata": {
      "needs_background": "light"
     },
     "output_type": "display_data"
    }
   ],
   "source": [
    "stats_quali_quanti('DURATION_CONTACT','STATUS',df_data)"
   ]
  },
  {
   "cell_type": "code",
   "execution_count": 143,
   "metadata": {},
   "outputs": [],
   "source": []
  },
  {
   "cell_type": "code",
   "execution_count": 91,
   "metadata": {},
   "outputs": [
    {
     "data": {
      "text/plain": [
       "Index(['AGE', 'BALANCE', 'DURATION_CONTACT', 'NB_CONTACT',\n",
       "       'NB_DAY_LAST_CONTACT', 'NB_CONTACT_LAST_CAMPAIGN'],\n",
       "      dtype='object')"
      ]
     },
     "execution_count": 91,
     "metadata": {},
     "output_type": "execute_result"
    }
   ],
   "source": [
    "quanti"
   ]
  },
  {
   "cell_type": "code",
   "execution_count": 133,
   "metadata": {},
   "outputs": [
    {
     "data": {
      "text/plain": [
       "Index(['DATE', 'JOB_TYPE', 'STATUS', 'EDUCATION', 'HAS_DEFAULT',\n",
       "       'HAS_HOUSING_LOAN', 'HAS_PERSO_LOAN', 'CONTACT', 'RESULT_LAST_CAMPAIGN',\n",
       "       'SUBSCRIPTION'],\n",
       "      dtype='object')"
      ]
     },
     "execution_count": 133,
     "metadata": {},
     "output_type": "execute_result"
    }
   ],
   "source": [
    "quali"
   ]
  },
  {
   "cell_type": "code",
   "execution_count": 125,
   "metadata": {},
   "outputs": [
    {
     "data": {
      "text/html": [
       "<div>\n",
       "<style scoped>\n",
       "    .dataframe tbody tr th:only-of-type {\n",
       "        vertical-align: middle;\n",
       "    }\n",
       "\n",
       "    .dataframe tbody tr th {\n",
       "        vertical-align: top;\n",
       "    }\n",
       "\n",
       "    .dataframe thead th {\n",
       "        text-align: right;\n",
       "    }\n",
       "</style>\n",
       "<table border=\"1\" class=\"dataframe\">\n",
       "  <thead>\n",
       "    <tr style=\"text-align: right;\">\n",
       "      <th></th>\n",
       "      <th>AGE</th>\n",
       "      <th>BALANCE</th>\n",
       "      <th>DURATION_CONTACT</th>\n",
       "      <th>NB_CONTACT</th>\n",
       "      <th>NB_DAY_LAST_CONTACT</th>\n",
       "      <th>NB_CONTACT_LAST_CAMPAIGN</th>\n",
       "    </tr>\n",
       "  </thead>\n",
       "  <tbody>\n",
       "    <tr>\n",
       "      <th>AGE</th>\n",
       "      <td>1.000000</td>\n",
       "      <td>0.050835</td>\n",
       "      <td>-0.004716</td>\n",
       "      <td>0.001231</td>\n",
       "      <td>-0.018904</td>\n",
       "      <td>0.001475</td>\n",
       "    </tr>\n",
       "    <tr>\n",
       "      <th>BALANCE</th>\n",
       "      <td>0.050835</td>\n",
       "      <td>1.000000</td>\n",
       "      <td>0.021517</td>\n",
       "      <td>-0.014605</td>\n",
       "      <td>0.003466</td>\n",
       "      <td>0.016515</td>\n",
       "    </tr>\n",
       "    <tr>\n",
       "      <th>DURATION_CONTACT</th>\n",
       "      <td>-0.004716</td>\n",
       "      <td>0.021517</td>\n",
       "      <td>1.000000</td>\n",
       "      <td>-0.084752</td>\n",
       "      <td>-0.001896</td>\n",
       "      <td>0.000483</td>\n",
       "    </tr>\n",
       "    <tr>\n",
       "      <th>NB_CONTACT</th>\n",
       "      <td>0.001231</td>\n",
       "      <td>-0.014605</td>\n",
       "      <td>-0.084752</td>\n",
       "      <td>1.000000</td>\n",
       "      <td>-0.088337</td>\n",
       "      <td>-0.032310</td>\n",
       "    </tr>\n",
       "    <tr>\n",
       "      <th>NB_DAY_LAST_CONTACT</th>\n",
       "      <td>-0.018904</td>\n",
       "      <td>0.003466</td>\n",
       "      <td>-0.001896</td>\n",
       "      <td>-0.088337</td>\n",
       "      <td>1.000000</td>\n",
       "      <td>0.454566</td>\n",
       "    </tr>\n",
       "    <tr>\n",
       "      <th>NB_CONTACT_LAST_CAMPAIGN</th>\n",
       "      <td>0.001475</td>\n",
       "      <td>0.016515</td>\n",
       "      <td>0.000483</td>\n",
       "      <td>-0.032310</td>\n",
       "      <td>0.454566</td>\n",
       "      <td>1.000000</td>\n",
       "    </tr>\n",
       "  </tbody>\n",
       "</table>\n",
       "</div>"
      ],
      "text/plain": [
       "                               AGE   BALANCE  DURATION_CONTACT  NB_CONTACT  \\\n",
       "AGE                       1.000000  0.050835         -0.004716    0.001231   \n",
       "BALANCE                   0.050835  1.000000          0.021517   -0.014605   \n",
       "DURATION_CONTACT         -0.004716  0.021517          1.000000   -0.084752   \n",
       "NB_CONTACT                0.001231 -0.014605         -0.084752    1.000000   \n",
       "NB_DAY_LAST_CONTACT      -0.018904  0.003466         -0.001896   -0.088337   \n",
       "NB_CONTACT_LAST_CAMPAIGN  0.001475  0.016515          0.000483   -0.032310   \n",
       "\n",
       "                          NB_DAY_LAST_CONTACT  NB_CONTACT_LAST_CAMPAIGN  \n",
       "AGE                                 -0.018904                  0.001475  \n",
       "BALANCE                              0.003466                  0.016515  \n",
       "DURATION_CONTACT                    -0.001896                  0.000483  \n",
       "NB_CONTACT                          -0.088337                 -0.032310  \n",
       "NB_DAY_LAST_CONTACT                  1.000000                  0.454566  \n",
       "NB_CONTACT_LAST_CAMPAIGN             0.454566                  1.000000  "
      ]
     },
     "execution_count": 125,
     "metadata": {},
     "output_type": "execute_result"
    }
   ],
   "source": [
    "df_data[list(quanti)].corr"
   ]
  },
  {
   "cell_type": "code",
   "execution_count": 122,
   "metadata": {},
   "outputs": [
    {
     "data": {
      "image/png": "[encoded data removed]",
      "text/plain": [
       "<Figure size 432x288 with 1 Axes>"
      ]
     },
     "metadata": {
      "needs_background": "light"
     },
     "output_type": "display_data"
    }
   ],
   "source": [
    "stats_subscription_quanti(\"NB_CONTACT_LAST_CAMPAIGN\",df_data)"
   ]
  },
  {
   "cell_type": "code",
   "execution_count": 39,
   "metadata": {},
   "outputs": [
    {
     "name": "stdout",
     "output_type": "stream",
     "text": [
      "Nom: DATE\n",
      "Nombre de valeurs distinctes: 552\n",
      "Nombre NaN: 0\n",
      "Pourcentage: 0.0\n",
      "\n",
      "Nom: AGE\n",
      "Nombre de valeurs distinctes: 78\n",
      "Nombre NaN: 0\n",
      "Pourcentage: 0.0\n",
      "\n",
      "Nom: JOB_TYPE\n",
      "Nombre de valeurs distinctes: 11\n",
      "Nombre NaN: 286\n",
      "Pourcentage: 0.0063\n",
      "\n",
      "Nom: STATUS\n",
      "Nombre de valeurs distinctes: 3\n",
      "Nombre NaN: 1128\n",
      "Pourcentage: 0.025\n",
      "\n",
      "Nom: EDUCATION\n",
      "Nombre de valeurs distinctes: 3\n",
      "Nombre NaN: 1853\n",
      "Pourcentage: 0.0411\n",
      "\n",
      "Nom: HAS_DEFAULT\n",
      "Nombre de valeurs distinctes: 2\n",
      "Nombre NaN: 0\n",
      "Pourcentage: 0.0\n",
      "\n",
      "Nom: BALANCE\n",
      "Nombre de valeurs distinctes: 7168\n",
      "Nombre NaN: 0\n",
      "Pourcentage: 0.0\n",
      "\n",
      "Nom: HAS_HOUSING_LOAN\n",
      "Nombre de valeurs distinctes: 2\n",
      "Nombre NaN: 0\n",
      "Pourcentage: 0.0\n",
      "\n",
      "Nom: HAS_PERSO_LOAN\n",
      "Nombre de valeurs distinctes: 2\n",
      "Nombre NaN: 1354\n",
      "Pourcentage: 0.03\n",
      "\n",
      "Nom: CONTACT\n",
      "Nombre de valeurs distinctes: 2\n",
      "Nombre NaN: 13019\n",
      "Pourcentage: 0.2884\n",
      "\n",
      "Nom: DURATION_CONTACT\n",
      "Nombre de valeurs distinctes: 1572\n",
      "Nombre NaN: 0\n",
      "Pourcentage: 0.0\n",
      "\n",
      "Nom: NB_CONTACT\n",
      "Nombre de valeurs distinctes: 48\n",
      "Nombre NaN: 0\n",
      "Pourcentage: 0.0\n",
      "\n",
      "Nom: NB_DAY_LAST_CONTACT\n",
      "Nombre de valeurs distinctes: 555\n",
      "Nombre NaN: 0\n",
      "Pourcentage: 0.0\n",
      "\n",
      "Nom: NB_CONTACT_LAST_CAMPAIGN\n",
      "Nombre de valeurs distinctes: 41\n",
      "Nombre NaN: 0\n",
      "Pourcentage: 0.0\n",
      "\n",
      "Nom: RESULT_LAST_CAMPAIGN\n",
      "Nombre de valeurs distinctes: 3\n",
      "Nombre NaN: 36939\n",
      "Pourcentage: 0.8184\n",
      "\n",
      "Nom: SUBSCRIPTION\n",
      "Nombre de valeurs distinctes: 2\n",
      "Nombre NaN: 0\n",
      "Pourcentage: 0.0\n",
      "\n"
     ]
    }
   ],
   "source": [
    "# Nom de la data à remplacer\n",
    "df_data = df_data\n",
    "perc = []\n",
    "for i in range(df_data.shape[1]):\n",
    "    Nom = df_data.columns[i]\n",
    "    Distinct = df_data.iloc[:,i].nunique()\n",
    "    print(\"Nom: {}\\nNombre de valeurs distinctes: {}\".format(Nom, Distinct))\n",
    "    Nb = df_data.iloc[:,i].isnull().sum()\n",
    "    Poucentage = df_data.iloc[:,i].isnull().sum() / df_data.shape[0]\n",
    "    Nom = df_data.columns[i]\n",
    "    print(\"Nombre NaN: {}\\nPourcentage: {}\\n\".format(Nb,round(Poucentage,4)))"
   ]
  },
  {
   "cell_type": "code",
   "execution_count": 25,
   "metadata": {},
   "outputs": [
    {
     "name": "stdout",
     "output_type": "stream",
     "text": [
      "Nom: DATE\n",
      "Nombre de valeurs distinctes: 552\n",
      "\n",
      "\n",
      "Nom: AGE\n",
      "Nombre de valeurs distinctes: 78\n",
      "\n",
      "\n",
      "Nom: JOB_TYPE\n",
      "Nombre de valeurs distinctes: 11\n",
      "\n",
      "\n",
      "Nom: STATUS\n",
      "Nombre de valeurs distinctes: 3\n",
      "\n",
      "\n",
      "Nom: EDUCATION\n",
      "Nombre de valeurs distinctes: 3\n",
      "\n",
      "\n",
      "Nom: HAS_DEFAULT\n",
      "Nombre de valeurs distinctes: 2\n",
      "\n",
      "\n",
      "Nom: BALANCE\n",
      "Nombre de valeurs distinctes: 7168\n",
      "\n",
      "\n",
      "Nom: HAS_HOUSING_LOAN\n",
      "Nombre de valeurs distinctes: 2\n",
      "\n",
      "\n",
      "Nom: HAS_PERSO_LOAN\n",
      "Nombre de valeurs distinctes: 2\n",
      "\n",
      "\n",
      "Nom: CONTACT\n",
      "Nombre de valeurs distinctes: 2\n",
      "\n",
      "\n",
      "Nom: DURATION_CONTACT\n",
      "Nombre de valeurs distinctes: 1572\n",
      "\n",
      "\n",
      "Nom: NB_CONTACT\n",
      "Nombre de valeurs distinctes: 48\n",
      "\n",
      "\n",
      "Nom: NB_DAY_LAST_CONTACT\n",
      "Nombre de valeurs distinctes: 555\n",
      "\n",
      "\n",
      "Nom: NB_CONTACT_LAST_CAMPAIGN\n",
      "Nombre de valeurs distinctes: 41\n",
      "\n",
      "\n",
      "Nom: RESULT_LAST_CAMPAIGN\n",
      "Nombre de valeurs distinctes: 3\n",
      "\n",
      "\n",
      "Nom: SUBSCRIPTION\n",
      "Nombre de valeurs distinctes: 2\n",
      "\n",
      "\n"
     ]
    }
   ],
   "source": [
    "for i in range(df_data.shape[1]):\n",
    "    Nom = df_data.columns[i]\n",
    "    Distinct = df_data.iloc[:,i].nunique()\n",
    "    print(\"Nom: {}\\nNombre de valeurs distinctes: {}\\n\".format(Nom, Distinct))"
   ]
  },
  {
   "cell_type": "markdown",
   "metadata": {},
   "source": [
    "### df_eco analyse"
   ]
  },
  {
   "cell_type": "code",
   "execution_count": 31,
   "metadata": {},
   "outputs": [
    {
     "name": "stdout",
     "output_type": "stream",
     "text": [
      "(30, 5)\n"
     ]
    },
    {
     "data": {
      "text/html": [
       "<div>\n",
       "<style scoped>\n",
       "    .dataframe tbody tr th:only-of-type {\n",
       "        vertical-align: middle;\n",
       "    }\n",
       "\n",
       "    .dataframe tbody tr th {\n",
       "        vertical-align: top;\n",
       "    }\n",
       "\n",
       "    .dataframe thead th {\n",
       "        text-align: right;\n",
       "    }\n",
       "</style>\n",
       "<table border=\"1\" class=\"dataframe\">\n",
       "  <thead>\n",
       "    <tr style=\"text-align: right;\">\n",
       "      <th></th>\n",
       "      <th>DATE</th>\n",
       "      <th>EMPLOYMENT_VARIATION_RATE</th>\n",
       "      <th>IDX_CONSUMER_PRICE</th>\n",
       "      <th>IDX_CONSUMER_CONFIDENCE</th>\n",
       "      <th>NB_EMPLOYE</th>\n",
       "    </tr>\n",
       "  </thead>\n",
       "  <tbody>\n",
       "    <tr>\n",
       "      <th>0</th>\n",
       "      <td>2008-05-31</td>\n",
       "      <td>1.1</td>\n",
       "      <td>93.994</td>\n",
       "      <td>-36.4</td>\n",
       "      <td>5191.0</td>\n",
       "    </tr>\n",
       "    <tr>\n",
       "      <th>1</th>\n",
       "      <td>2008-06-30</td>\n",
       "      <td>1.4</td>\n",
       "      <td>94.465</td>\n",
       "      <td>-41.8</td>\n",
       "      <td>5228.1</td>\n",
       "    </tr>\n",
       "    <tr>\n",
       "      <th>2</th>\n",
       "      <td>2008-07-31</td>\n",
       "      <td>1.4</td>\n",
       "      <td>93.918</td>\n",
       "      <td>-42.7</td>\n",
       "      <td>5228.1</td>\n",
       "    </tr>\n",
       "    <tr>\n",
       "      <th>3</th>\n",
       "      <td>2008-08-31</td>\n",
       "      <td>1.4</td>\n",
       "      <td>93.444</td>\n",
       "      <td>-36.1</td>\n",
       "      <td>5228.1</td>\n",
       "    </tr>\n",
       "    <tr>\n",
       "      <th>4</th>\n",
       "      <td>2008-09-30</td>\n",
       "      <td>NaN</td>\n",
       "      <td>NaN</td>\n",
       "      <td>NaN</td>\n",
       "      <td>NaN</td>\n",
       "    </tr>\n",
       "    <tr>\n",
       "      <th>5</th>\n",
       "      <td>2008-10-31</td>\n",
       "      <td>-0.1</td>\n",
       "      <td>93.798</td>\n",
       "      <td>-40.4</td>\n",
       "      <td>5195.8</td>\n",
       "    </tr>\n",
       "    <tr>\n",
       "      <th>6</th>\n",
       "      <td>2008-11-30</td>\n",
       "      <td>-0.1</td>\n",
       "      <td>93.200</td>\n",
       "      <td>-42.0</td>\n",
       "      <td>5195.8</td>\n",
       "    </tr>\n",
       "    <tr>\n",
       "      <th>7</th>\n",
       "      <td>2008-12-31</td>\n",
       "      <td>-0.2</td>\n",
       "      <td>92.756</td>\n",
       "      <td>-45.9</td>\n",
       "      <td>5176.3</td>\n",
       "    </tr>\n",
       "    <tr>\n",
       "      <th>8</th>\n",
       "      <td>2009-01-31</td>\n",
       "      <td>NaN</td>\n",
       "      <td>NaN</td>\n",
       "      <td>NaN</td>\n",
       "      <td>NaN</td>\n",
       "    </tr>\n",
       "    <tr>\n",
       "      <th>9</th>\n",
       "      <td>2009-02-28</td>\n",
       "      <td>NaN</td>\n",
       "      <td>NaN</td>\n",
       "      <td>NaN</td>\n",
       "      <td>NaN</td>\n",
       "    </tr>\n",
       "    <tr>\n",
       "      <th>10</th>\n",
       "      <td>2009-03-31</td>\n",
       "      <td>-1.8</td>\n",
       "      <td>92.843</td>\n",
       "      <td>-50.0</td>\n",
       "      <td>5099.1</td>\n",
       "    </tr>\n",
       "    <tr>\n",
       "      <th>11</th>\n",
       "      <td>2009-04-30</td>\n",
       "      <td>-1.8</td>\n",
       "      <td>93.075</td>\n",
       "      <td>-47.1</td>\n",
       "      <td>5099.1</td>\n",
       "    </tr>\n",
       "    <tr>\n",
       "      <th>12</th>\n",
       "      <td>2009-05-31</td>\n",
       "      <td>-1.8</td>\n",
       "      <td>92.893</td>\n",
       "      <td>-46.2</td>\n",
       "      <td>5099.1</td>\n",
       "    </tr>\n",
       "    <tr>\n",
       "      <th>13</th>\n",
       "      <td>2009-06-30</td>\n",
       "      <td>-2.9</td>\n",
       "      <td>92.963</td>\n",
       "      <td>-40.8</td>\n",
       "      <td>5076.2</td>\n",
       "    </tr>\n",
       "    <tr>\n",
       "      <th>14</th>\n",
       "      <td>2009-07-31</td>\n",
       "      <td>-2.9</td>\n",
       "      <td>92.469</td>\n",
       "      <td>-33.6</td>\n",
       "      <td>5076.2</td>\n",
       "    </tr>\n",
       "    <tr>\n",
       "      <th>15</th>\n",
       "      <td>2009-08-31</td>\n",
       "      <td>-2.9</td>\n",
       "      <td>92.201</td>\n",
       "      <td>-31.4</td>\n",
       "      <td>5076.2</td>\n",
       "    </tr>\n",
       "    <tr>\n",
       "      <th>16</th>\n",
       "      <td>2009-09-30</td>\n",
       "      <td>-3.4</td>\n",
       "      <td>92.379</td>\n",
       "      <td>-29.8</td>\n",
       "      <td>5017.5</td>\n",
       "    </tr>\n",
       "    <tr>\n",
       "      <th>17</th>\n",
       "      <td>2009-10-31</td>\n",
       "      <td>-3.4</td>\n",
       "      <td>92.431</td>\n",
       "      <td>-26.9</td>\n",
       "      <td>5017.5</td>\n",
       "    </tr>\n",
       "    <tr>\n",
       "      <th>18</th>\n",
       "      <td>2009-11-30</td>\n",
       "      <td>-3.4</td>\n",
       "      <td>92.649</td>\n",
       "      <td>-30.1</td>\n",
       "      <td>5017.5</td>\n",
       "    </tr>\n",
       "    <tr>\n",
       "      <th>19</th>\n",
       "      <td>2009-12-31</td>\n",
       "      <td>-3.0</td>\n",
       "      <td>92.713</td>\n",
       "      <td>-33.0</td>\n",
       "      <td>5023.5</td>\n",
       "    </tr>\n",
       "    <tr>\n",
       "      <th>20</th>\n",
       "      <td>2010-01-31</td>\n",
       "      <td>NaN</td>\n",
       "      <td>NaN</td>\n",
       "      <td>NaN</td>\n",
       "      <td>NaN</td>\n",
       "    </tr>\n",
       "    <tr>\n",
       "      <th>21</th>\n",
       "      <td>2010-02-28</td>\n",
       "      <td>NaN</td>\n",
       "      <td>NaN</td>\n",
       "      <td>NaN</td>\n",
       "      <td>NaN</td>\n",
       "    </tr>\n",
       "    <tr>\n",
       "      <th>22</th>\n",
       "      <td>2010-03-31</td>\n",
       "      <td>-1.8</td>\n",
       "      <td>93.369</td>\n",
       "      <td>-34.8</td>\n",
       "      <td>5008.7</td>\n",
       "    </tr>\n",
       "    <tr>\n",
       "      <th>23</th>\n",
       "      <td>2010-04-30</td>\n",
       "      <td>-1.8</td>\n",
       "      <td>93.749</td>\n",
       "      <td>-34.6</td>\n",
       "      <td>5008.7</td>\n",
       "    </tr>\n",
       "    <tr>\n",
       "      <th>24</th>\n",
       "      <td>2010-05-31</td>\n",
       "      <td>-1.8</td>\n",
       "      <td>93.876</td>\n",
       "      <td>-40.0</td>\n",
       "      <td>5008.7</td>\n",
       "    </tr>\n",
       "    <tr>\n",
       "      <th>25</th>\n",
       "      <td>2010-06-30</td>\n",
       "      <td>-1.7</td>\n",
       "      <td>94.055</td>\n",
       "      <td>-39.8</td>\n",
       "      <td>4991.6</td>\n",
       "    </tr>\n",
       "    <tr>\n",
       "      <th>26</th>\n",
       "      <td>2010-07-31</td>\n",
       "      <td>-1.7</td>\n",
       "      <td>94.215</td>\n",
       "      <td>-40.3</td>\n",
       "      <td>4991.6</td>\n",
       "    </tr>\n",
       "    <tr>\n",
       "      <th>27</th>\n",
       "      <td>2010-08-31</td>\n",
       "      <td>-1.7</td>\n",
       "      <td>94.027</td>\n",
       "      <td>-38.3</td>\n",
       "      <td>4991.6</td>\n",
       "    </tr>\n",
       "    <tr>\n",
       "      <th>28</th>\n",
       "      <td>2010-09-30</td>\n",
       "      <td>-1.1</td>\n",
       "      <td>94.199</td>\n",
       "      <td>-37.5</td>\n",
       "      <td>4963.6</td>\n",
       "    </tr>\n",
       "    <tr>\n",
       "      <th>29</th>\n",
       "      <td>2010-10-31</td>\n",
       "      <td>-1.1</td>\n",
       "      <td>94.601</td>\n",
       "      <td>-49.5</td>\n",
       "      <td>4963.6</td>\n",
       "    </tr>\n",
       "  </tbody>\n",
       "</table>\n",
       "</div>"
      ],
      "text/plain": [
       "          DATE  EMPLOYMENT_VARIATION_RATE  IDX_CONSUMER_PRICE  \\\n",
       "0   2008-05-31                        1.1              93.994   \n",
       "1   2008-06-30                        1.4              94.465   \n",
       "2   2008-07-31                        1.4              93.918   \n",
       "3   2008-08-31                        1.4              93.444   \n",
       "4   2008-09-30                        NaN                 NaN   \n",
       "5   2008-10-31                       -0.1              93.798   \n",
       "6   2008-11-30                       -0.1              93.200   \n",
       "7   2008-12-31                       -0.2              92.756   \n",
       "8   2009-01-31                        NaN                 NaN   \n",
       "9   2009-02-28                        NaN                 NaN   \n",
       "10  2009-03-31                       -1.8              92.843   \n",
       "11  2009-04-30                       -1.8              93.075   \n",
       "12  2009-05-31                       -1.8              92.893   \n",
       "13  2009-06-30                       -2.9              92.963   \n",
       "14  2009-07-31                       -2.9              92.469   \n",
       "15  2009-08-31                       -2.9              92.201   \n",
       "16  2009-09-30                       -3.4              92.379   \n",
       "17  2009-10-31                       -3.4              92.431   \n",
       "18  2009-11-30                       -3.4              92.649   \n",
       "19  2009-12-31                       -3.0              92.713   \n",
       "20  2010-01-31                        NaN                 NaN   \n",
       "21  2010-02-28                        NaN                 NaN   \n",
       "22  2010-03-31                       -1.8              93.369   \n",
       "23  2010-04-30                       -1.8              93.749   \n",
       "24  2010-05-31                       -1.8              93.876   \n",
       "25  2010-06-30                       -1.7              94.055   \n",
       "26  2010-07-31                       -1.7              94.215   \n",
       "27  2010-08-31                       -1.7              94.027   \n",
       "28  2010-09-30                       -1.1              94.199   \n",
       "29  2010-10-31                       -1.1              94.601   \n",
       "\n",
       "    IDX_CONSUMER_CONFIDENCE  NB_EMPLOYE  \n",
       "0                     -36.4      5191.0  \n",
       "1                     -41.8      5228.1  \n",
       "2                     -42.7      5228.1  \n",
       "3                     -36.1      5228.1  \n",
       "4                       NaN         NaN  \n",
       "5                     -40.4      5195.8  \n",
       "6                     -42.0      5195.8  \n",
       "7                     -45.9      5176.3  \n",
       "8                       NaN         NaN  \n",
       "9                       NaN         NaN  \n",
       "10                    -50.0      5099.1  \n",
       "11                    -47.1      5099.1  \n",
       "12                    -46.2      5099.1  \n",
       "13                    -40.8      5076.2  \n",
       "14                    -33.6      5076.2  \n",
       "15                    -31.4      5076.2  \n",
       "16                    -29.8      5017.5  \n",
       "17                    -26.9      5017.5  \n",
       "18                    -30.1      5017.5  \n",
       "19                    -33.0      5023.5  \n",
       "20                      NaN         NaN  \n",
       "21                      NaN         NaN  \n",
       "22                    -34.8      5008.7  \n",
       "23                    -34.6      5008.7  \n",
       "24                    -40.0      5008.7  \n",
       "25                    -39.8      4991.6  \n",
       "26                    -40.3      4991.6  \n",
       "27                    -38.3      4991.6  \n",
       "28                    -37.5      4963.6  \n",
       "29                    -49.5      4963.6  "
      ]
     },
     "execution_count": 31,
     "metadata": {},
     "output_type": "execute_result"
    }
   ],
   "source": [
    "df_eco = pd.read_csv(\"socio_eco.csv\")\n",
    "print(df_eco.shape)\n",
    "df_eco.head(30)"
   ]
  },
  {
   "cell_type": "code",
   "execution_count": null,
   "metadata": {},
   "outputs": [],
   "source": [
    "profile = ProfileReport(df_data, title='Pandas Profiling Report', html={'style':{'full_width':True}})\n",
    "profile.to_widgets()"
   ]
  },
  {
   "cell_type": "code",
   "execution_count": 26,
   "metadata": {},
   "outputs": [
    {
     "data": {
      "text/plain": [
       "DATE                          object\n",
       "EMPLOYMENT_VARIATION_RATE    float64\n",
       "IDX_CONSUMER_PRICE           float64\n",
       "IDX_CONSUMER_CONFIDENCE      float64\n",
       "NB_EMPLOYE                   float64\n",
       "dtype: object"
      ]
     },
     "execution_count": 26,
     "metadata": {},
     "output_type": "execute_result"
    }
   ],
   "source": [
    "df_eco.dtypes"
   ]
  },
  {
   "cell_type": "code",
   "execution_count": 27,
   "metadata": {},
   "outputs": [
    {
     "name": "stdout",
     "output_type": "stream",
     "text": [
      "Nombre NaN: 0\n",
      "Pourcentage: 0.0\n",
      "Nom de la variable: DATE\n",
      "\n",
      "\n",
      "Nombre NaN: 5\n",
      "Pourcentage: 0.1667\n",
      "Nom de la variable: EMPLOYMENT_VARIATION_RATE\n",
      "\n",
      "\n",
      "Nombre NaN: 5\n",
      "Pourcentage: 0.1667\n",
      "Nom de la variable: IDX_CONSUMER_PRICE\n",
      "\n",
      "\n",
      "Nombre NaN: 5\n",
      "Pourcentage: 0.1667\n",
      "Nom de la variable: IDX_CONSUMER_CONFIDENCE\n",
      "\n",
      "\n",
      "Nombre NaN: 5\n",
      "Pourcentage: 0.1667\n",
      "Nom de la variable: NB_EMPLOYE\n",
      "\n",
      "\n"
     ]
    }
   ],
   "source": [
    "# Nom de la data à remplacer\n",
    "df_data = df_eco\n",
    "perc = []\n",
    "for i in range(df_data.shape[1]):\n",
    "    Nb = df_data.iloc[:,i].isnull().sum()\n",
    "    Poucentage = df_data.iloc[:,i].isnull().sum() / df_data.shape[0]\n",
    "    Nom = df_data.columns[i]\n",
    "    print(\"Nombre NaN: {}\\nPourcentage: {}\\nNom de la variable: {}\\n\".format(Nb,round(Poucentage,4),Nom))"
   ]
  },
  {
   "cell_type": "code",
   "execution_count": 28,
   "metadata": {},
   "outputs": [
    {
     "name": "stdout",
     "output_type": "stream",
     "text": [
      "Nom: DATE\n",
      "Nombre de valeurs distinctes: 30\n",
      "\n",
      "\n",
      "Nom: EMPLOYMENT_VARIATION_RATE\n",
      "Nombre de valeurs distinctes: 10\n",
      "\n",
      "\n",
      "Nom: IDX_CONSUMER_PRICE\n",
      "Nombre de valeurs distinctes: 25\n",
      "\n",
      "\n",
      "Nom: IDX_CONSUMER_CONFIDENCE\n",
      "Nombre de valeurs distinctes: 25\n",
      "\n",
      "\n",
      "Nom: NB_EMPLOYE\n",
      "Nombre de valeurs distinctes: 11\n",
      "\n",
      "\n"
     ]
    }
   ],
   "source": [
    "for i in range(df_data.shape[1]):\n",
    "    Nom = df_data.columns[i]\n",
    "    Distinct = df_data.iloc[:,i].nunique()\n",
    "    print(\"Nom: {}\\nNombre de valeurs distinctes: {}\\n\".format(Nom, Distinct))"
   ]
  },
  {
   "cell_type": "code",
   "execution_count": null,
   "metadata": {},
   "outputs": [],
   "source": []
  }
 ],
 "metadata": {
  "kernelspec": {
   "display_name": "Python 3",
   "language": "python",
   "name": "python3"
  },
  "language_info": {
   "codemirror_mode": {
    "name": "ipython",
    "version": 3
   },
   "file_extension": ".py",
   "mimetype": "text/x-python",
   "name": "python",
   "nbconvert_exporter": "python",
   "pygments_lexer": "ipython3",
   "version": "3.7.4"
  }
 },
 "nbformat": 4,
 "nbformat_minor": 2
}
