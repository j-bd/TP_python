{
 "cells": [
  {
   "cell_type": "code",
   "execution_count": 139,
   "metadata": {},
   "outputs": [
    {
     "name": "stdout",
     "output_type": "stream",
     "text": [
      "CONTACT                  0      1      2\n",
      "RESULT_LAST_CAMPAIGN                    \n",
      "0                     9.55   1.47  88.97\n",
      "1                     6.97   0.61  92.42\n",
      "2                     6.16  35.06  58.79\n",
      "3                     7.47   0.81  91.72\n"
     ]
    }
   ],
   "source": [
    "x = pd.crosstab(df_data[\"RESULT_LAST_CAMPAIGN\"],df_data[\"CONTACT\"]).apply(lambda r: round(r/r.sum()*100,2), axis=1)\n",
    "print(x)\n",
    "#print(pd.crosstab(df_data[\"JOB_TYPE\"],df_data[\"STATUS\"],margins=True,margins_name=\"Total\"))"
   ]
  },
  {
   "cell_type": "code",
   "execution_count": 28,
   "metadata": {},
   "outputs": [
    {
     "data": {
      "text/html": [
       "<div>\n",
       "<style scoped>\n",
       "    .dataframe tbody tr th:only-of-type {\n",
       "        vertical-align: middle;\n",
       "    }\n",
       "\n",
       "    .dataframe tbody tr th {\n",
       "        vertical-align: top;\n",
       "    }\n",
       "\n",
       "    .dataframe thead th {\n",
       "        text-align: right;\n",
       "    }\n",
       "</style>\n",
       "<table border=\"1\" class=\"dataframe\">\n",
       "  <thead>\n",
       "    <tr style=\"text-align: right;\">\n",
       "      <th></th>\n",
       "      <th>DATE</th>\n",
       "      <th>AGE</th>\n",
       "      <th>JOB_TYPE</th>\n",
       "      <th>STATUS</th>\n",
       "      <th>EDUCATION</th>\n",
       "      <th>HAS_DEFAULT</th>\n",
       "      <th>BALANCE</th>\n",
       "      <th>HAS_HOUSING_LOAN</th>\n",
       "      <th>HAS_PERSO_LOAN</th>\n",
       "      <th>CONTACT</th>\n",
       "      <th>DURATION_CONTACT</th>\n",
       "      <th>NB_CONTACT</th>\n",
       "      <th>NB_DAY_LAST_CONTACT</th>\n",
       "      <th>NB_CONTACT_LAST_CAMPAIGN</th>\n",
       "      <th>RESULT_LAST_CAMPAIGN</th>\n",
       "      <th>SUBSCRIPTION</th>\n",
       "    </tr>\n",
       "  </thead>\n",
       "  <tbody>\n",
       "    <tr>\n",
       "      <th>0</th>\n",
       "      <td>2008-05-05</td>\n",
       "      <td>58</td>\n",
       "      <td>7</td>\n",
       "      <td>2</td>\n",
       "      <td>2</td>\n",
       "      <td>0</td>\n",
       "      <td>2143</td>\n",
       "      <td>1</td>\n",
       "      <td>0</td>\n",
       "      <td>1</td>\n",
       "      <td>261</td>\n",
       "      <td>1</td>\n",
       "      <td>-1</td>\n",
       "      <td>0</td>\n",
       "      <td>2</td>\n",
       "      <td>0</td>\n",
       "    </tr>\n",
       "    <tr>\n",
       "      <th>1</th>\n",
       "      <td>2008-05-05</td>\n",
       "      <td>123</td>\n",
       "      <td>10</td>\n",
       "      <td>2</td>\n",
       "      <td>1</td>\n",
       "      <td>0</td>\n",
       "      <td>29</td>\n",
       "      <td>1</td>\n",
       "      <td>0</td>\n",
       "      <td>1</td>\n",
       "      <td>151</td>\n",
       "      <td>1</td>\n",
       "      <td>-1</td>\n",
       "      <td>0</td>\n",
       "      <td>2</td>\n",
       "      <td>0</td>\n",
       "    </tr>\n",
       "    <tr>\n",
       "      <th>2</th>\n",
       "      <td>2008-05-05</td>\n",
       "      <td>33</td>\n",
       "      <td>4</td>\n",
       "      <td>2</td>\n",
       "      <td>1</td>\n",
       "      <td>0</td>\n",
       "      <td>2</td>\n",
       "      <td>1</td>\n",
       "      <td>1</td>\n",
       "      <td>1</td>\n",
       "      <td>76</td>\n",
       "      <td>1</td>\n",
       "      <td>-1</td>\n",
       "      <td>0</td>\n",
       "      <td>2</td>\n",
       "      <td>0</td>\n",
       "    </tr>\n",
       "    <tr>\n",
       "      <th>3</th>\n",
       "      <td>2008-05-05</td>\n",
       "      <td>47</td>\n",
       "      <td>2</td>\n",
       "      <td>2</td>\n",
       "      <td>1</td>\n",
       "      <td>0</td>\n",
       "      <td>1506</td>\n",
       "      <td>1</td>\n",
       "      <td>0</td>\n",
       "      <td>1</td>\n",
       "      <td>92</td>\n",
       "      <td>1</td>\n",
       "      <td>-1</td>\n",
       "      <td>0</td>\n",
       "      <td>2</td>\n",
       "      <td>0</td>\n",
       "    </tr>\n",
       "    <tr>\n",
       "      <th>4</th>\n",
       "      <td>2008-05-05</td>\n",
       "      <td>33</td>\n",
       "      <td>2</td>\n",
       "      <td>0</td>\n",
       "      <td>1</td>\n",
       "      <td>0</td>\n",
       "      <td>1</td>\n",
       "      <td>0</td>\n",
       "      <td>0</td>\n",
       "      <td>1</td>\n",
       "      <td>198</td>\n",
       "      <td>1</td>\n",
       "      <td>-1</td>\n",
       "      <td>0</td>\n",
       "      <td>2</td>\n",
       "      <td>0</td>\n",
       "    </tr>\n",
       "  </tbody>\n",
       "</table>\n",
       "</div>"
      ],
      "text/plain": [
       "         DATE  AGE  JOB_TYPE  STATUS  EDUCATION  HAS_DEFAULT  BALANCE  \\\n",
       "0  2008-05-05   58         7       2          2            0     2143   \n",
       "1  2008-05-05  123        10       2          1            0       29   \n",
       "2  2008-05-05   33         4       2          1            0        2   \n",
       "3  2008-05-05   47         2       2          1            0     1506   \n",
       "4  2008-05-05   33         2       0          1            0        1   \n",
       "\n",
       "   HAS_HOUSING_LOAN  HAS_PERSO_LOAN  CONTACT  DURATION_CONTACT  NB_CONTACT  \\\n",
       "0                 1               0        1               261           1   \n",
       "1                 1               0        1               151           1   \n",
       "2                 1               1        1                76           1   \n",
       "3                 1               0        1                92           1   \n",
       "4                 0               0        1               198           1   \n",
       "\n",
       "   NB_DAY_LAST_CONTACT  NB_CONTACT_LAST_CAMPAIGN  RESULT_LAST_CAMPAIGN  \\\n",
       "0                   -1                         0                     2   \n",
       "1                   -1                         0                     2   \n",
       "2                   -1                         0                     2   \n",
       "3                   -1                         0                     2   \n",
       "4                   -1                         0                     2   \n",
       "\n",
       "   SUBSCRIPTION  \n",
       "0             0  \n",
       "1             0  \n",
       "2             0  \n",
       "3             0  \n",
       "4             0  "
      ]
     },
     "execution_count": 28,
     "metadata": {},
     "output_type": "execute_result"
    }
   ],
   "source": [
    "df_data.head()"
   ]
  },
  {
   "cell_type": "code",
   "execution_count": 47,
   "metadata": {},
   "outputs": [
    {
     "data": {
      "text/plain": [
       "array([[<matplotlib.axes._subplots.AxesSubplot object at 0x00000208FC924E48>]],\n",
       "      dtype=object)"
      ]
     },
     "execution_count": 47,
     "metadata": {},
     "output_type": "execute_result"
    },
    {
     "data": {
      "image/png": "[encoded data removed]",
      "text/plain": [
       "<Figure size 432x288 with 1 Axes>"
      ]
     },
     "metadata": {
      "needs_background": "light"
     },
     "output_type": "display_data"
    }
   ],
   "source": [
    "df_data.query('NB_DAY_LAST_CONTACT > 0').hist(\"NB_DAY_LAST_CONTACT\")"
   ]
  },
  {
   "cell_type": "code",
   "execution_count": 46,
   "metadata": {},
   "outputs": [
    {
     "data": {
      "text/plain": [
       "<matplotlib.axes._subplots.AxesSubplot at 0x208fc8c1c08>"
      ]
     },
     "execution_count": 46,
     "metadata": {},
     "output_type": "execute_result"
    },
    {
     "data": {
      "image/png": "[encoded data removed]",
      "text/plain": [
       "<Figure size 432x288 with 1 Axes>"
      ]
     },
     "metadata": {
      "needs_background": "light"
     },
     "output_type": "display_data"
    }
   ],
   "source": [
    "df_data.query('NB_DAY_LAST_CONTACT > 0').boxplot(\"NB_DAY_LAST_CONTACT\")"
   ]
  },
  {
   "cell_type": "code",
   "execution_count": 50,
   "metadata": {},
   "outputs": [
    {
     "data": {
      "text/html": [
       "<div>\n",
       "<style scoped>\n",
       "    .dataframe tbody tr th:only-of-type {\n",
       "        vertical-align: middle;\n",
       "    }\n",
       "\n",
       "    .dataframe tbody tr th {\n",
       "        vertical-align: top;\n",
       "    }\n",
       "\n",
       "    .dataframe thead th {\n",
       "        text-align: right;\n",
       "    }\n",
       "</style>\n",
       "<table border=\"1\" class=\"dataframe\">\n",
       "  <thead>\n",
       "    <tr style=\"text-align: right;\">\n",
       "      <th></th>\n",
       "      <th>NB_DAY_LAST_CONTACT</th>\n",
       "    </tr>\n",
       "  </thead>\n",
       "  <tbody>\n",
       "    <tr>\n",
       "      <th>count</th>\n",
       "      <td>8202.000000</td>\n",
       "    </tr>\n",
       "    <tr>\n",
       "      <th>mean</th>\n",
       "      <td>224.857596</td>\n",
       "    </tr>\n",
       "    <tr>\n",
       "      <th>std</th>\n",
       "      <td>114.848322</td>\n",
       "    </tr>\n",
       "    <tr>\n",
       "      <th>min</th>\n",
       "      <td>1.000000</td>\n",
       "    </tr>\n",
       "    <tr>\n",
       "      <th>25%</th>\n",
       "      <td>133.250000</td>\n",
       "    </tr>\n",
       "    <tr>\n",
       "      <th>50%</th>\n",
       "      <td>195.000000</td>\n",
       "    </tr>\n",
       "    <tr>\n",
       "      <th>75%</th>\n",
       "      <td>327.000000</td>\n",
       "    </tr>\n",
       "    <tr>\n",
       "      <th>max</th>\n",
       "      <td>854.000000</td>\n",
       "    </tr>\n",
       "  </tbody>\n",
       "</table>\n",
       "</div>"
      ],
      "text/plain": [
       "       NB_DAY_LAST_CONTACT\n",
       "count          8202.000000\n",
       "mean            224.857596\n",
       "std             114.848322\n",
       "min               1.000000\n",
       "25%             133.250000\n",
       "50%             195.000000\n",
       "75%             327.000000\n",
       "max             854.000000"
      ]
     },
     "execution_count": 50,
     "metadata": {},
     "output_type": "execute_result"
    }
   ],
   "source": [
    "df_data.query('NB_DAY_LAST_CONTACT > 0').filter(['NB_DAY_LAST_CONTACT']).describe()"
   ]
  },
  {
   "cell_type": "code",
   "execution_count": 51,
   "metadata": {},
   "outputs": [
    {
     "data": {
      "text/plain": [
       "<matplotlib.axes._subplots.AxesSubplot at 0x208fc9b6b08>"
      ]
     },
     "execution_count": 51,
     "metadata": {},
     "output_type": "execute_result"
    },
    {
     "data": {
      "image/png": "[encoded data removed]",
      "text/plain": [
       "<Figure size 432x288 with 1 Axes>"
      ]
     },
     "metadata": {
      "needs_background": "light"
     },
     "output_type": "display_data"
    }
   ],
   "source": [
    "df_data.boxplot(\"AGE\")"
   ]
  },
  {
   "cell_type": "code",
   "execution_count": 65,
   "metadata": {},
   "outputs": [],
   "source": [
    "x1 = 'NB_DAY_LAST_CONTACT > 0'\n",
    "x2 = 'AGE < 123'"
   ]
  },
  {
   "cell_type": "code",
   "execution_count": 66,
   "metadata": {},
   "outputs": [
    {
     "name": "stdout",
     "output_type": "stream",
     "text": [
      "(41677, 16)\n",
      "(41677, 16)\n"
     ]
    }
   ],
   "source": [
    "# Retirer variables\n",
    "index_col_to_treat = df_data.query(x2).index\n",
    "df = df_data.query(x2)\n",
    "print(df[np.abs(df.NB_DAY_LAST_CONTACT-df.NB_DAY_LAST_CONTACT.mean())<=(3*df.NB_DAY_LAST_CONTACT.std())].shape)\n",
    "print(df[~(np.abs(df.NB_DAY_LAST_CONTACT-df.NB_DAY_LAST_CONTACT.mean())>(3*df.NB_DAY_LAST_CONTACT.std()))].shape)"
   ]
  },
  {
   "cell_type": "code",
   "execution_count": 135,
   "metadata": {},
   "outputs": [],
   "source": [
    "def hist_quanti_with_restriction(name_data,name_column,restriction,relation):\n",
    "\n",
    "    df = name_data.query('{} {} {}'.format(name_column,relation,restr))\n",
    "    mean_col = np.mean(df[name_column])\n",
    "    std_col = np.std(df[name_column])\n",
    "\n",
    "    plt.subplot(211)\n",
    "    plt.figure(figsize = (14, 6))\n",
    "    plt.title(\"Valeurs aberrantes\")\n",
    "    plt.xlabel(name_column)\n",
    "\n",
    "    plt.hist(df[name_column],bins=100)\n",
    "\n",
    "    plt.axvline(mean_col, color='#FD4E40', linestyle='solid', linewidth=2, label = \"Mean\")\n",
    "\n",
    "    plt.axvline(mean_col + std_col, color='#FFB908', linestyle='solid', linewidth=2, label = \"Standard Deviations\")\n",
    "    plt.axvline(mean_col - std_col, color='#FFB908', linestyle='solid', linewidth=2)\n",
    "\n",
    "    plt.axvline(mean_col + std_col * 2, color='#FFB908', linestyle='solid', linewidth=2)\n",
    "    plt.axvline(mean_col - std_col * 2, color='#FFB908', linestyle='solid', linewidth=2)\n",
    "\n",
    "    plt.axvline(mean_col + std_col * 3, color='#FFB908', linestyle='solid', linewidth=2)\n",
    "    plt.axvline(mean_col - std_col * 3, color='#FFB908', linestyle='solid', linewidth=2)\n",
    "\n",
    "    #plt.axvline(check_value, color='#62EDBF', linestyle='solid', linewidth=2, label = \"You\")\n",
    "\n",
    "    plt.legend()"
   ]
  },
  {
   "cell_type": "code",
   "execution_count": 136,
   "metadata": {},
   "outputs": [
    {
     "data": {
      "image/png": "[encoded data removed]",
      "text/plain": [
       "<Figure size 432x288 with 1 Axes>"
      ]
     },
     "metadata": {
      "needs_background": "light"
     },
     "output_type": "display_data"
    },
    {
     "data": {
      "image/png": "[encoded data removed]",
      "text/plain": [
       "<Figure size 1008x432 with 1 Axes>"
      ]
     },
     "metadata": {
      "needs_background": "light"
     },
     "output_type": "display_data"
    }
   ],
   "source": [
    "hist_quanti_with_restriction(df_data,\"AGE\",\"123\",\"<\")"
   ]
  },
  {
   "cell_type": "code",
   "execution_count": 137,
   "metadata": {},
   "outputs": [
    {
     "data": {
      "image/png": "[encoded data removed]",
      "text/plain": [
       "<Figure size 432x288 with 1 Axes>"
      ]
     },
     "metadata": {
      "needs_background": "light"
     },
     "output_type": "display_data"
    },
    {
     "data": {
      "image/png": "[encoded data removed]",
      "text/plain": [
       "<Figure size 1008x432 with 1 Axes>"
      ]
     },
     "metadata": {
      "needs_background": "light"
     },
     "output_type": "display_data"
    }
   ],
   "source": [
    "hist_quanti_with_restriction(df_data,\"NB_DAY_LAST_CONTACT\",\"0\",\">\")"
   ]
  },
  {
   "cell_type": "code",
   "execution_count": 138,
   "metadata": {},
   "outputs": [
    {
     "data": {
      "text/plain": [
       "array([[<matplotlib.axes._subplots.AxesSubplot object at 0x0000020883F86288>]],\n",
       "      dtype=object)"
      ]
     },
     "execution_count": 138,
     "metadata": {},
     "output_type": "execute_result"
    },
    {
     "data": {
      "image/png": "[encoded data removed]",
      "text/plain": [
       "<Figure size 432x288 with 1 Axes>"
      ]
     },
     "metadata": {
      "needs_background": "light"
     },
     "output_type": "display_data"
    }
   ],
   "source": [
    "df_data.query('BALANCE < 15000').filter([\"BALANCE\"]).hist(bins=100)"
   ]
  },
  {
   "cell_type": "code",
   "execution_count": 142,
   "metadata": {},
   "outputs": [
    {
     "data": {
      "text/plain": [
       "count     45136.000000\n",
       "mean       1362.182847\n",
       "std        3046.691765\n",
       "min       -8019.000000\n",
       "25%          72.000000\n",
       "50%         447.500000\n",
       "75%        1425.000000\n",
       "max      102127.000000\n",
       "Name: BALANCE, dtype: float64"
      ]
     },
     "execution_count": 142,
     "metadata": {},
     "output_type": "execute_result"
    }
   ],
   "source": [
    "df_data[\"BALANCE\"].describe()"
   ]
  },
  {
   "cell_type": "code",
   "execution_count": 141,
   "metadata": {},
   "outputs": [
    {
     "data": {
      "image/png": "[encoded data removed]",
      "text/plain": [
       "<Figure size 432x288 with 1 Axes>"
      ]
     },
     "metadata": {
      "needs_background": "light"
     },
     "output_type": "display_data"
    },
    {
     "data": {
      "image/png": "[encoded data removed]",
      "text/plain": [
       "<Figure size 1008x432 with 1 Axes>"
      ]
     },
     "metadata": {
      "needs_background": "light"
     },
     "output_type": "display_data"
    }
   ],
   "source": [
    "hist_quanti_with_restriction(df_data,\"DURATION_CONTACT\",\"2000\",\"<\")"
   ]
  },
  {
   "cell_type": "code",
   "execution_count": null,
   "metadata": {},
   "outputs": [],
   "source": []
  },
  {
   "cell_type": "code",
   "execution_count": null,
   "metadata": {},
   "outputs": [],
   "source": [
    "df=pd.DataFrame({'Data':np.random.normal(size=200)})  #example dataset of normally distributed data. \n",
    "df[np.abs(df.Data-df.Data.mean())<=(3*df.Data.std())] #keep only the ones that are within +3 to -3 standard deviations in the column 'Data'.\n",
    "df[~(np.abs(df.Data-df.Data.mean())>(3*df.Data.std()))] #or if you prefer the other way around"
   ]
  },
  {
   "cell_type": "code",
   "execution_count": null,
   "metadata": {},
   "outputs": [],
   "source": [
    "df = pd.DataFrame(np.random.randn(100, 3), columns=list('ABC'))\n",
    "\n",
    "df[df.apply(lambda x: np.abs(x - x.mean()) / x.std() < 3).all(axis=1)]"
   ]
  },
  {
   "cell_type": "markdown",
   "metadata": {},
   "source": [
    "## Partie plus clean"
   ]
  },
  {
   "cell_type": "code",
   "execution_count": 145,
   "metadata": {},
   "outputs": [],
   "source": [
    "import pandas as pd\n",
    "import numpy as np\n",
    "from pandas_profiling import ProfileReport\n",
    "import matplotlib.pyplot as plt\n",
    "import pylab\n",
    "from scipy import stats\n",
    "\n",
    "from sklearn.model_selection import train_test_split\n",
    "from sklearn import linear_model \n",
    "from sklearn.preprocessing import LabelEncoder\n",
    "\n",
    "import seaborn as sns\n",
    "from sklearn import metrics"
   ]
  },
  {
   "cell_type": "code",
   "execution_count": 146,
   "metadata": {},
   "outputs": [
    {
     "name": "stdout",
     "output_type": "stream",
     "text": [
      "(45136, 16)\n"
     ]
    },
    {
     "data": {
      "text/html": [
       "<div>\n",
       "<style scoped>\n",
       "    .dataframe tbody tr th:only-of-type {\n",
       "        vertical-align: middle;\n",
       "    }\n",
       "\n",
       "    .dataframe tbody tr th {\n",
       "        vertical-align: top;\n",
       "    }\n",
       "\n",
       "    .dataframe thead th {\n",
       "        text-align: right;\n",
       "    }\n",
       "</style>\n",
       "<table border=\"1\" class=\"dataframe\">\n",
       "  <thead>\n",
       "    <tr style=\"text-align: right;\">\n",
       "      <th></th>\n",
       "      <th>DATE</th>\n",
       "      <th>AGE</th>\n",
       "      <th>JOB_TYPE</th>\n",
       "      <th>STATUS</th>\n",
       "      <th>EDUCATION</th>\n",
       "      <th>HAS_DEFAULT</th>\n",
       "      <th>BALANCE</th>\n",
       "      <th>HAS_HOUSING_LOAN</th>\n",
       "      <th>HAS_PERSO_LOAN</th>\n",
       "      <th>CONTACT</th>\n",
       "      <th>DURATION_CONTACT</th>\n",
       "      <th>NB_CONTACT</th>\n",
       "      <th>NB_DAY_LAST_CONTACT</th>\n",
       "      <th>NB_CONTACT_LAST_CAMPAIGN</th>\n",
       "      <th>RESULT_LAST_CAMPAIGN</th>\n",
       "      <th>SUBSCRIPTION</th>\n",
       "    </tr>\n",
       "  </thead>\n",
       "  <tbody>\n",
       "    <tr>\n",
       "      <th>0</th>\n",
       "      <td>2008-05-05</td>\n",
       "      <td>58</td>\n",
       "      <td>Manager</td>\n",
       "      <td>Marié</td>\n",
       "      <td>Tertiaire</td>\n",
       "      <td>No</td>\n",
       "      <td>2143</td>\n",
       "      <td>Yes</td>\n",
       "      <td>No</td>\n",
       "      <td>NaN</td>\n",
       "      <td>261</td>\n",
       "      <td>1</td>\n",
       "      <td>-1</td>\n",
       "      <td>0</td>\n",
       "      <td>NaN</td>\n",
       "      <td>No</td>\n",
       "    </tr>\n",
       "    <tr>\n",
       "      <th>1</th>\n",
       "      <td>2008-05-05</td>\n",
       "      <td>123</td>\n",
       "      <td>Technicien</td>\n",
       "      <td>NaN</td>\n",
       "      <td>Secondaire</td>\n",
       "      <td>No</td>\n",
       "      <td>29</td>\n",
       "      <td>Yes</td>\n",
       "      <td>NaN</td>\n",
       "      <td>NaN</td>\n",
       "      <td>151</td>\n",
       "      <td>1</td>\n",
       "      <td>-1</td>\n",
       "      <td>0</td>\n",
       "      <td>NaN</td>\n",
       "      <td>No</td>\n",
       "    </tr>\n",
       "    <tr>\n",
       "      <th>2</th>\n",
       "      <td>2008-05-05</td>\n",
       "      <td>33</td>\n",
       "      <td>Entrepreuneur</td>\n",
       "      <td>Marié</td>\n",
       "      <td>Secondaire</td>\n",
       "      <td>No</td>\n",
       "      <td>2</td>\n",
       "      <td>Yes</td>\n",
       "      <td>Yes</td>\n",
       "      <td>NaN</td>\n",
       "      <td>76</td>\n",
       "      <td>1</td>\n",
       "      <td>-1</td>\n",
       "      <td>0</td>\n",
       "      <td>NaN</td>\n",
       "      <td>No</td>\n",
       "    </tr>\n",
       "    <tr>\n",
       "      <th>3</th>\n",
       "      <td>2008-05-05</td>\n",
       "      <td>47</td>\n",
       "      <td>Col bleu</td>\n",
       "      <td>Marié</td>\n",
       "      <td>NaN</td>\n",
       "      <td>No</td>\n",
       "      <td>1506</td>\n",
       "      <td>Yes</td>\n",
       "      <td>No</td>\n",
       "      <td>NaN</td>\n",
       "      <td>92</td>\n",
       "      <td>1</td>\n",
       "      <td>-1</td>\n",
       "      <td>0</td>\n",
       "      <td>NaN</td>\n",
       "      <td>No</td>\n",
       "    </tr>\n",
       "    <tr>\n",
       "      <th>4</th>\n",
       "      <td>2008-05-05</td>\n",
       "      <td>33</td>\n",
       "      <td>NaN</td>\n",
       "      <td>Célibataire</td>\n",
       "      <td>NaN</td>\n",
       "      <td>No</td>\n",
       "      <td>1</td>\n",
       "      <td>No</td>\n",
       "      <td>No</td>\n",
       "      <td>NaN</td>\n",
       "      <td>198</td>\n",
       "      <td>1</td>\n",
       "      <td>-1</td>\n",
       "      <td>0</td>\n",
       "      <td>NaN</td>\n",
       "      <td>No</td>\n",
       "    </tr>\n",
       "  </tbody>\n",
       "</table>\n",
       "</div>"
      ],
      "text/plain": [
       "         DATE  AGE       JOB_TYPE       STATUS   EDUCATION HAS_DEFAULT  \\\n",
       "0  2008-05-05   58        Manager        Marié   Tertiaire          No   \n",
       "1  2008-05-05  123     Technicien          NaN  Secondaire          No   \n",
       "2  2008-05-05   33  Entrepreuneur        Marié  Secondaire          No   \n",
       "3  2008-05-05   47       Col bleu        Marié         NaN          No   \n",
       "4  2008-05-05   33            NaN  Célibataire         NaN          No   \n",
       "\n",
       "   BALANCE HAS_HOUSING_LOAN HAS_PERSO_LOAN CONTACT  DURATION_CONTACT  \\\n",
       "0     2143              Yes             No     NaN               261   \n",
       "1       29              Yes            NaN     NaN               151   \n",
       "2        2              Yes            Yes     NaN                76   \n",
       "3     1506              Yes             No     NaN                92   \n",
       "4        1               No             No     NaN               198   \n",
       "\n",
       "   NB_CONTACT  NB_DAY_LAST_CONTACT  NB_CONTACT_LAST_CAMPAIGN  \\\n",
       "0           1                   -1                         0   \n",
       "1           1                   -1                         0   \n",
       "2           1                   -1                         0   \n",
       "3           1                   -1                         0   \n",
       "4           1                   -1                         0   \n",
       "\n",
       "  RESULT_LAST_CAMPAIGN SUBSCRIPTION  \n",
       "0                  NaN           No  \n",
       "1                  NaN           No  \n",
       "2                  NaN           No  \n",
       "3                  NaN           No  \n",
       "4                  NaN           No  "
      ]
     },
     "execution_count": 146,
     "metadata": {},
     "output_type": "execute_result"
    }
   ],
   "source": [
    "df_data = pd.read_csv(\"data.csv\")\n",
    "print(df_data.shape)\n",
    "df_data.head(5)"
   ]
  },
  {
   "cell_type": "code",
   "execution_count": 147,
   "metadata": {},
   "outputs": [],
   "source": [
    "def check_percentage_NaN(name_data):\n",
    "        return round(name_data.isnull().sum()/name_data.shape[0]*100,2)"
   ]
  },
  {
   "cell_type": "code",
   "execution_count": 148,
   "metadata": {},
   "outputs": [
    {
     "data": {
      "text/plain": [
       "DATE                         0.00\n",
       "AGE                          0.00\n",
       "JOB_TYPE                     0.63\n",
       "STATUS                       2.50\n",
       "EDUCATION                    4.11\n",
       "HAS_DEFAULT                  0.00\n",
       "BALANCE                      0.00\n",
       "HAS_HOUSING_LOAN             0.00\n",
       "HAS_PERSO_LOAN               3.00\n",
       "CONTACT                     28.84\n",
       "DURATION_CONTACT             0.00\n",
       "NB_CONTACT                   0.00\n",
       "NB_DAY_LAST_CONTACT          0.00\n",
       "NB_CONTACT_LAST_CAMPAIGN     0.00\n",
       "RESULT_LAST_CAMPAIGN        81.84\n",
       "SUBSCRIPTION                 0.00\n",
       "dtype: float64"
      ]
     },
     "execution_count": 148,
     "metadata": {},
     "output_type": "execute_result"
    }
   ],
   "source": [
    "check_percentage_NaN(df_data)"
   ]
  },
  {
   "cell_type": "code",
   "execution_count": 149,
   "metadata": {},
   "outputs": [],
   "source": [
    "df_data[\"RESULT_LAST_CAMPAIGN\"] = df_data[\"RESULT_LAST_CAMPAIGN\"].replace(np.NaN,\"Not contacted\")"
   ]
  },
  {
   "cell_type": "code",
   "execution_count": 150,
   "metadata": {},
   "outputs": [],
   "source": [
    "df_data[\"CONTACT\"] = df_data[\"CONTACT\"].replace(np.NaN,\"No\")"
   ]
  },
  {
   "cell_type": "code",
   "execution_count": 151,
   "metadata": {},
   "outputs": [
    {
     "data": {
      "text/plain": [
       "DATE                        0.00\n",
       "AGE                         0.00\n",
       "JOB_TYPE                    0.63\n",
       "STATUS                      2.50\n",
       "EDUCATION                   4.11\n",
       "HAS_DEFAULT                 0.00\n",
       "BALANCE                     0.00\n",
       "HAS_HOUSING_LOAN            0.00\n",
       "HAS_PERSO_LOAN              3.00\n",
       "CONTACT                     0.00\n",
       "DURATION_CONTACT            0.00\n",
       "NB_CONTACT                  0.00\n",
       "NB_DAY_LAST_CONTACT         0.00\n",
       "NB_CONTACT_LAST_CAMPAIGN    0.00\n",
       "RESULT_LAST_CAMPAIGN        0.00\n",
       "SUBSCRIPTION                0.00\n",
       "dtype: float64"
      ]
     },
     "execution_count": 151,
     "metadata": {},
     "output_type": "execute_result"
    }
   ],
   "source": [
    "check_percentage_NaN(df_data)"
   ]
  },
  {
   "cell_type": "code",
   "execution_count": 152,
   "metadata": {},
   "outputs": [],
   "source": [
    "def NaN_to_mode_quali(name_data,name_column):\n",
    "    distinct_value = name_data[name_column].value_counts()\n",
    "    NaN_replace = distinct_value[distinct_value == max(distinct_value)].index[0]\n",
    "    return name_data[name_column].fillna(NaN_replace)"
   ]
  },
  {
   "cell_type": "code",
   "execution_count": 153,
   "metadata": {},
   "outputs": [],
   "source": [
    "quali_to_treat = [\"JOB_TYPE\",\"STATUS\",\"EDUCATION\",\"HAS_PERSO_LOAN\"]\n",
    "for col in quali_to_treat:\n",
    "    df_data[col] = NaN_to_mode_quali(df_data, col)"
   ]
  },
  {
   "cell_type": "code",
   "execution_count": 154,
   "metadata": {},
   "outputs": [
    {
     "data": {
      "text/plain": [
       "DATE                        0.0\n",
       "AGE                         0.0\n",
       "JOB_TYPE                    0.0\n",
       "STATUS                      0.0\n",
       "EDUCATION                   0.0\n",
       "HAS_DEFAULT                 0.0\n",
       "BALANCE                     0.0\n",
       "HAS_HOUSING_LOAN            0.0\n",
       "HAS_PERSO_LOAN              0.0\n",
       "CONTACT                     0.0\n",
       "DURATION_CONTACT            0.0\n",
       "NB_CONTACT                  0.0\n",
       "NB_DAY_LAST_CONTACT         0.0\n",
       "NB_CONTACT_LAST_CAMPAIGN    0.0\n",
       "RESULT_LAST_CAMPAIGN        0.0\n",
       "SUBSCRIPTION                0.0\n",
       "dtype: float64"
      ]
     },
     "execution_count": 154,
     "metadata": {},
     "output_type": "execute_result"
    }
   ],
   "source": [
    "check_percentage_NaN(df_data)"
   ]
  },
  {
   "cell_type": "code",
   "execution_count": 155,
   "metadata": {},
   "outputs": [],
   "source": [
    "def label_encodage_column(name_data,name_column):\n",
    "    le = LabelEncoder()\n",
    "    le.fit(name_data[name_column])\n",
    "    return list(le.transform(name_data[name_column]))"
   ]
  },
  {
   "cell_type": "code",
   "execution_count": 156,
   "metadata": {},
   "outputs": [],
   "source": [
    "column_to_treat = [\"JOB_TYPE\",\"STATUS\",\"EDUCATION\",\"HAS_DEFAULT\",\"HAS_HOUSING_LOAN\",\"HAS_PERSO_LOAN\",\"HAS_PERSO_LOAN\",\"CONTACT\",\"RESULT_LAST_CAMPAIGN\",\"SUBSCRIPTION\"]\n",
    "for col in column_to_treat:\n",
    "    df_data[col] = label_encodage_column(df_data, col)"
   ]
  },
  {
   "cell_type": "code",
   "execution_count": null,
   "metadata": {},
   "outputs": [],
   "source": []
  },
  {
   "cell_type": "code",
   "execution_count": null,
   "metadata": {},
   "outputs": [],
   "source": []
  },
  {
   "cell_type": "code",
   "execution_count": null,
   "metadata": {},
   "outputs": [],
   "source": []
  },
  {
   "cell_type": "markdown",
   "metadata": {},
   "source": [
    "## Modèle simple"
   ]
  },
  {
   "cell_type": "code",
   "execution_count": 157,
   "metadata": {},
   "outputs": [],
   "source": [
    "y = df_data[\"SUBSCRIPTION\"]\n",
    "X = df_data.drop([\"SUBSCRIPTION\",\"DATE\"],axis=1)\n",
    "X_train, X_test, y_train, y_test = train_test_split(X, y, test_size=0.3, random_state=42)"
   ]
  },
  {
   "cell_type": "code",
   "execution_count": 158,
   "metadata": {},
   "outputs": [
    {
     "name": "stderr",
     "output_type": "stream",
     "text": [
      "D:\\PYTHON_LOG\\lib\\site-packages\\sklearn\\linear_model\\logistic.py:432: FutureWarning: Default solver will be changed to 'lbfgs' in 0.22. Specify a solver to silence this warning.\n",
      "  FutureWarning)\n"
     ]
    }
   ],
   "source": [
    "logreg = linear_model.LogisticRegression()\n",
    "logreg.fit(X_train,y_train)\n",
    "y_pred_logit = logreg.predict(X_test)"
   ]
  },
  {
   "cell_type": "code",
   "execution_count": 159,
   "metadata": {},
   "outputs": [
    {
     "name": "stdout",
     "output_type": "stream",
     "text": [
      "0.8977918912931098\n"
     ]
    },
    {
     "data": {
      "text/plain": [
       "<matplotlib.axes._subplots.AxesSubplot at 0x208848a37c8>"
      ]
     },
     "execution_count": 159,
     "metadata": {},
     "output_type": "execute_result"
    },
    {
     "data": {
      "image/png": "[encoded data removed]",
      "text/plain": [
       "<Figure size 432x288 with 2 Axes>"
      ]
     },
     "metadata": {},
     "output_type": "display_data"
    }
   ],
   "source": [
    "mc = metrics.confusion_matrix(y_test,y_pred_logit)\n",
    "acc = metrics.accuracy_score(y_test, y_pred_logit)\n",
    "print(acc)\n",
    "sns.set()\n",
    "sns.heatmap(mc, linewidths=.5, annot=True, fmt=\"d\")"
   ]
  },
  {
   "cell_type": "code",
   "execution_count": null,
   "metadata": {},
   "outputs": [],
   "source": []
  }
 ],
 "metadata": {
  "kernelspec": {
   "display_name": "Python 3",
   "language": "python",
   "name": "python3"
  },
  "language_info": {
   "codemirror_mode": {
    "name": "ipython",
    "version": 3
   },
   "file_extension": ".py",
   "mimetype": "text/x-python",
   "name": "python",
   "nbconvert_exporter": "python",
   "pygments_lexer": "ipython3",
   "version": "3.7.4"
  }
 },
 "nbformat": 4,
 "nbformat_minor": 2
}
